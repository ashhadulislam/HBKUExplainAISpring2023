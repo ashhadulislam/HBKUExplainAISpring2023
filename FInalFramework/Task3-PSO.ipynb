{
 "cells": [
  {
   "cell_type": "markdown",
   "id": "ec2bbb0d",
   "metadata": {},
   "source": [
    "Refer:\n",
    "https://machinelearningmastery.com/a-gentle-introduction-to-particle-swarm-optimization/\n"
   ]
  },
  {
   "cell_type": "markdown",
   "id": "ce019a98",
   "metadata": {},
   "source": [
    "### Execute the code in the above website and explain the following \n",
    "\n",
    "\n",
    "\n",
    "pbest\n",
    "\n",
    "pbest_obj \n",
    "\n",
    "gbest\n",
    "\n",
    "gbest_obj \n",
    "\n",
    "V \n",
    "\n",
    "update() function"
   ]
  },
  {
   "cell_type": "code",
   "execution_count": null,
   "id": "37c19e93",
   "metadata": {},
   "outputs": [],
   "source": []
  }
 ],
 "metadata": {
  "kernelspec": {
   "display_name": "py37kern",
   "language": "python",
   "name": "py37kern"
  },
  "language_info": {
   "codemirror_mode": {
    "name": "ipython",
    "version": 3
   },
   "file_extension": ".py",
   "mimetype": "text/x-python",
   "name": "python",
   "nbconvert_exporter": "python",
   "pygments_lexer": "ipython3",
   "version": "3.7.0"
  }
 },
 "nbformat": 4,
 "nbformat_minor": 5
}
