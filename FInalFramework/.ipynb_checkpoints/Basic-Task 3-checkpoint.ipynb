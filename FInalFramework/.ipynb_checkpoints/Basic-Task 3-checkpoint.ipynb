{
 "cells": [
  {
   "cell_type": "code",
   "execution_count": 1,
   "id": "fc10afce",
   "metadata": {},
   "outputs": [],
   "source": [
    "from sklearn import datasets\n",
    "from sklearn.model_selection import train_test_split\n",
    "import numpy as np\n",
    "from sklearn.metrics import accuracy_score\n",
    "\n",
    "from scipy.stats import entropy\n",
    "\n",
    "\n",
    "# import some data to play with\n",
    "iris = datasets.load_iris()\n",
    "X = iris.data\n",
    "y = iris.target\n",
    "\n",
    "X_train, X_test, y_train, y_test = train_test_split(\n",
    "     X, y, test_size=0.33, random_state=42)\n",
    "\n",
    "\n",
    "# normalize the data\n",
    "from sklearn.preprocessing import MinMaxScaler\n",
    "scaler = MinMaxScaler()\n",
    "X_train=scaler.fit_transform(X_train)\n",
    "X_test=scaler.transform(X_test)\n",
    "# def change_weights(X_train,y_train,X_test,y_test,weights):"
   ]
  },
  {
   "cell_type": "code",
   "execution_count": 2,
   "id": "07622faf",
   "metadata": {},
   "outputs": [],
   "source": [
    "# Check if the entropy functions work"
   ]
  },
  {
   "cell_type": "code",
   "execution_count": 3,
   "id": "cedc5b2a",
   "metadata": {},
   "outputs": [
    {
     "name": "stdout",
     "output_type": "stream",
     "text": [
      "1.0549201679861442\n"
     ]
    }
   ],
   "source": [
    "pk = np.array([1/5, 2/5, 2/5])  # fair coin\n",
    "H = entropy(pk)\n",
    "print(H)"
   ]
  },
  {
   "cell_type": "code",
   "execution_count": 4,
   "id": "a7b39465",
   "metadata": {},
   "outputs": [
    {
     "name": "stdout",
     "output_type": "stream",
     "text": [
      "1.0549201679861442\n"
     ]
    }
   ],
   "source": [
    "H=-0.2*(np.log(0.2))-0.4*(np.log(0.4))-0.4*(np.log(0.4))\n",
    "print(H)"
   ]
  },
  {
   "cell_type": "code",
   "execution_count": 5,
   "id": "37f37313",
   "metadata": {},
   "outputs": [
    {
     "name": "stdout",
     "output_type": "stream",
     "text": [
      "{0: 0.3333333333333333, 1: 0.3333333333333333, 2: 0.3333333333333333}\n"
     ]
    }
   ],
   "source": [
    "\n",
    "def calculate_probabilities(list_labels, uniq_labels):\n",
    "    '''\n",
    "    Author: Sara Nassar \n",
    "    this function calculates the probabilities of each label in the list of labels\n",
    "    it is calculated by number of labels in class A/all labels\n",
    "    number of labels in class B/all labels\n",
    "    and so on\n",
    "    '''\n",
    "    \n",
    "    # A dictionary to store the probabilities\n",
    "    probabilities = dict.fromkeys(uniq_labels, 0)\n",
    "    \n",
    "    # Total number of labels\n",
    "    total_labels = len(list_labels)\n",
    "    \n",
    "    for label in uniq_labels:\n",
    "        # Counting the number of times the label occurs in the list\n",
    "        count = list_labels.count(label)\n",
    "        \n",
    "        # Calculating the probability of the label\n",
    "        probability = count / total_labels\n",
    "        \n",
    "        # Storing the calculated probability in the dictionary\n",
    "        probabilities[label] = probability\n",
    "        \n",
    "    return probabilities    \n",
    "    \n",
    "    \n",
    "# test your function\n",
    "list_labels=[1,2,0,1,2,0]\n",
    "uniq_labels=[0,1,2]\n",
    "print(calculate_probabilities(list_labels,uniq_labels))\n",
    "# this should print somehting like 0.33,0.33,0.33\n"
   ]
  },
  {
   "cell_type": "code",
   "execution_count": 6,
   "id": "bad5dd0a",
   "metadata": {},
   "outputs": [
    {
     "name": "stdout",
     "output_type": "stream",
     "text": [
      "1.0549201679861442\n"
     ]
    }
   ],
   "source": [
    "\n",
    "def calc_entropy_from_probabilities(list_probas):\n",
    "    '''\n",
    "    Author: Sara Nassar \n",
    "    list_probas is the list of probabiities\n",
    "    the formula for entropy is\n",
    "    sum(-proba*log(proba))\n",
    "    \n",
    "    '''\n",
    "    \n",
    "    entropy_value = 0\n",
    "\n",
    "    for proba in list_probas:\n",
    "        # If the probability is not zero\n",
    "        if proba != 0:\n",
    "            entropy_value += -proba * np.log(proba)\n",
    "     \n",
    "    return entropy_value\n",
    "\n",
    "\n",
    "# test your function\n",
    "list_probas=[1/5, 2/5, 2/5]\n",
    "print(calc_entropy_from_probabilities(list_probas))\n",
    "# above should print 1.054..."
   ]
  },
  {
   "cell_type": "code",
   "execution_count": 7,
   "id": "169e9035",
   "metadata": {},
   "outputs": [
    {
     "name": "stdout",
     "output_type": "stream",
     "text": [
      "0.61\n"
     ]
    }
   ],
   "source": [
    "def information_gain(old_entropy,new_entropies,count_items):\n",
    "    '''\n",
    "    Author: Sara Nassar \n",
    "    from the list of new entropies, calculate the overall new entropy\n",
    "    \n",
    "    formula is something like:\n",
    "    overall_new_entropy = entropy1*proportion1 + entropy2*proportion2+ entropy3*proportion3 ...\n",
    "    \n",
    "    igain=old_entropy-overall_new_entropy\n",
    "    '''\n",
    "    \n",
    "    overall_new_entropy = 0\n",
    "    \n",
    "    # Calculating the total number of items\n",
    "    total_items = sum(count_items)\n",
    "    \n",
    "    for i in range(len(new_entropies)):\n",
    "        # Calculating the proportion of items in the current partition\n",
    "        proportion = count_items[i] / total_items\n",
    "        \n",
    "        # Adding the entropy of the current partition weighted by its proportion to the overall new entropy\n",
    "        overall_new_entropy += new_entropies[i] * proportion\n",
    "        \n",
    "    # Calculating the information gain\n",
    "    information_gain = old_entropy - overall_new_entropy\n",
    "    \n",
    "    return information_gain\n",
    "\n",
    "#test your function\n",
    "old_entropy=1\n",
    "new_entropies=[0,0.65]\n",
    "count_items=[4,6]\n",
    "print(information_gain(old_entropy,new_entropies,count_items))\n",
    "# above should print 0.61\n",
    "    \n",
    "    \n",
    "    "
   ]
  },
  {
   "cell_type": "code",
   "execution_count": 8,
   "id": "d3120181",
   "metadata": {},
   "outputs": [],
   "source": [
    "# iris"
   ]
  },
  {
   "cell_type": "code",
   "execution_count": 9,
   "id": "6b7e9b98",
   "metadata": {},
   "outputs": [],
   "source": [
    "\n",
    "def initialize_weights(number_features):\n",
    "    '''\n",
    "    the first set of weights corresponding to the features\n",
    "    For now, it defaults to 2\n",
    "    '''\n",
    "    \n",
    "    weights=np.array([np.random.uniform() for i in range(number_features)])\n",
    "    return weights\n",
    "    "
   ]
  },
  {
   "cell_type": "code",
   "execution_count": 10,
   "id": "6792d233",
   "metadata": {},
   "outputs": [
    {
     "name": "stdout",
     "output_type": "stream",
     "text": [
      "[0.38415502 0.27579153 0.71347403 0.10322215]\n"
     ]
    }
   ],
   "source": [
    "num_feats=X_train.shape[1]\n",
    "print(initialize_weights(num_feats))"
   ]
  },
  {
   "cell_type": "markdown",
   "id": "fe4fe43d",
   "metadata": {},
   "source": [
    "### Task 3: PSO optimization to find best weights at any iteration"
   ]
  },
  {
   "cell_type": "code",
   "execution_count": 11,
   "id": "a550e0aa",
   "metadata": {},
   "outputs": [],
   "source": [
    "def get_entropy_from_groups(new_entropies,count_items):\n",
    "    overall_new_entropy = 0\n",
    "    \n",
    "    # Calculating the total number of items\n",
    "    total_items = sum(count_items)\n",
    "    \n",
    "    for i in range(len(new_entropies)):\n",
    "        # Calculating the proportion of items in the current partition\n",
    "        proportion = count_items[i] / total_items\n",
    "        \n",
    "        # Adding the entropy of the current partition weighted by its proportion to the overall new entropy\n",
    "        overall_new_entropy += new_entropies[i] * proportion\n",
    "        \n",
    "    return overall_new_entropy    \n",
    "\n",
    "def get_entropy(threshold,res,y_test):\n",
    "\n",
    "    # make two groups\n",
    "    group1=[]\n",
    "    group2=[]\n",
    "\n",
    "    for i in range(res.shape[0]):\n",
    "        if res[i]<threshold:\n",
    "            group1.append(y_test[i])\n",
    "        else:\n",
    "            group2.append(y_test[i])\n",
    "\n",
    "\n",
    "\n",
    "\n",
    "    proba_gr1=calculate_probabilities(group1,np.unique(group1).tolist())\n",
    "    proba_gr1=list(proba_gr1.values()) \n",
    "    entropy_group1=calc_entropy_from_probabilities(proba_gr1)\n",
    "    count_group1=len(proba_gr1)\n",
    "\n",
    "    proba_gr2=calculate_probabilities(group2,np.unique(group2).tolist())\n",
    "    proba_gr2=list(proba_gr2.values()) \n",
    "    entropy_group2=calc_entropy_from_probabilities(proba_gr2)\n",
    "    count_group2=len(proba_gr2)\n",
    "\n",
    "    new_entropies=[entropy_group1,entropy_group2]\n",
    "    count_items=[count_group1,count_group2]\n",
    "    overall_new_entropy=get_entropy_from_groups(new_entropies,count_items)\n",
    "    return overall_new_entropy\n"
   ]
  },
  {
   "cell_type": "code",
   "execution_count": 12,
   "id": "3e3a1a6c",
   "metadata": {},
   "outputs": [],
   "source": [
    "# # initialization\n",
    "# # Author: Bilal \n",
    "\n",
    "# # step 1 calculate the probabilities of 0, 1 and 2 in the y_test array\n",
    "# proba_init = calculate_probabilities(y_test.tolist(),np.unique(y_test).tolist())\n",
    "# print(\"Initial proba=\",proba_init)\n",
    "\n",
    "# # step 2 calculate the initial entropy of y_test, using the probability values\n",
    "# # you might have to convert the dictionary to a list\n",
    "# # get only the probability values\n",
    "# list_probas=list(proba_init.values())\n",
    "# print(list_probas)\n",
    "# entropy_init=calc_entropy_from_probabilities(list_probas)\n",
    "# print(\"Initial entropy = \",entropy_init)\n",
    "\n",
    "\n",
    "\n",
    "\n",
    "# wt_init=initialize_weights(num_feats)\n",
    "# # right now the initialize_weights function only returns 2,2,2 \n",
    "# print(wt_init)\n",
    "\n",
    "# # multiply the weights with each feature and calculate the sum\n",
    "# res=np.sum(X_test * wt_init, axis=1)\n",
    "# print(res)\n",
    "\n",
    "# best_threshold=-1\n",
    "# best_entropy=np.inf\n",
    "# # try diffrent thresholds\n",
    "# for threshold in np.unique(np.sort(res)):\n",
    "#     print(threshold)\n",
    "#     new_entropy=get_entropy(threshold,res,y_test)\n",
    "#     print(threshold,new_entropy)\n",
    "#     if new_entropy<best_entropy:\n",
    "#         best_entropy=new_entropy\n",
    "#         best_threshold=threshold\n",
    "\n",
    "        \n",
    "# print(\"Best is \",best_entropy,\"at thresh\",best_threshold)        "
   ]
  },
  {
   "cell_type": "code",
   "execution_count": 13,
   "id": "1d5bccd2",
   "metadata": {},
   "outputs": [],
   "source": [
    "def objective_fn(param1,param2,X,y):\n",
    "    '''\n",
    "    param1 and param2 are the parameters that we want to optimize\n",
    "    say param1 is the weight vector and  param2 is the threshold\n",
    "    '''\n",
    "    # multiply the weights with each feature and calculate the sum\n",
    "    res=np.sum(X * param1, axis=1)  \n",
    "#     print(res)\n",
    "    entropy=get_entropy(param2,res,y)\n",
    "    return entropy\n",
    "    \n",
    "    \n",
    "def objective_fn_vector(params1,params2,X,y):\n",
    "    '''\n",
    "    params1 is an array of weight vectors\n",
    "    params2 is an array of thresholds\n",
    "    '''\n",
    "    results=[]\n",
    "    for i in range(params1.shape[0]):\n",
    "        param1=params1[i]\n",
    "        param2=params2[i]\n",
    "        res=objective_fn(param1,param2,X,y)\n",
    "#         print(param2,res)\n",
    "        results.append(res)\n",
    "    \n",
    "    return np.array(results)\n",
    "    "
   ]
  },
  {
   "cell_type": "code",
   "execution_count": 14,
   "id": "c65a359d",
   "metadata": {},
   "outputs": [],
   "source": [
    "params1=[initialize_weights(X_train.shape[1]) for i in range(100)]\n",
    "params2=[np.random.uniform() for i in range(100)]\n",
    "# we have a list of 100 weight vectors (params1) and 100 thresholds (params2)\n",
    "params1=np.array(params1)\n",
    "params2=np.array(params2)"
   ]
  },
  {
   "cell_type": "code",
   "execution_count": 15,
   "id": "3e79a230",
   "metadata": {},
   "outputs": [],
   "source": [
    "z = objective_fn_vector(params1, params2, X_train, y_train)\n",
    "# Find the global minimum\n",
    "param1_min = params1[z.argmin()]\n",
    "param2_min = params2[z.argmin()]"
   ]
  },
  {
   "cell_type": "code",
   "execution_count": 16,
   "id": "f3722650",
   "metadata": {},
   "outputs": [],
   "source": [
    "\n",
    " \n",
    "# Hyper-parameter of the algorithm\n",
    "c1 = c2 = 0.1\n",
    "w1 = np.array([np.random.uniform() for i in range(X_train.shape[1])])\n",
    "w2 = 0.8 \n",
    "# Create particles\n",
    "n_particles = 20\n",
    "np.random.seed(100)\n",
    "params1=[initialize_weights(X_train.shape[1]) for i in range(n_particles)]\n",
    "params2=[np.random.uniform() for i in range(n_particles)]\n",
    "params1=np.array(params1)\n",
    "params2=np.array(params2)\n",
    "\n",
    "\n",
    "V_param1 = [initialize_weights(X_train.shape[1])*0.1 for i in range(n_particles)]\n",
    "V_param2 = np.array([np.random.uniform()*0.1 for i in range(n_particles)])\n",
    "\n",
    "# Initialize data\n",
    "pbest = (params1,params2)\n",
    "pbest_obj = objective_fn_vector(params1, params2, X_train, y_train)\n",
    "gbest=(params1[pbest_obj.argmin()],params2[pbest_obj.argmin()])\n",
    "gbest_obj = pbest_obj.min()\n",
    " \n"
   ]
  },
  {
   "cell_type": "code",
   "execution_count": 17,
   "id": "b28cf954",
   "metadata": {},
   "outputs": [
    {
     "data": {
      "text/plain": [
       "(20,)"
      ]
     },
     "execution_count": 17,
     "metadata": {},
     "output_type": "execute_result"
    }
   ],
   "source": [
    "V_param2.shape"
   ]
  },
  {
   "cell_type": "code",
   "execution_count": 18,
   "id": "dbeae025",
   "metadata": {},
   "outputs": [
    {
     "data": {
      "text/plain": [
       "array([0.67013703, 0.82232957, 0.64329013, 0.70573338, 0.73886477,\n",
       "       0.82232957, 1.09729975, 0.5237323 , 0.77244152, 0.4620281 ,\n",
       "       0.86703698, 0.81919055, 1.09729975, 0.81919055, 0.73355763,\n",
       "       0.74030523, 0.82232957, 0.73805779, 1.09729975, 0.68309963])"
      ]
     },
     "execution_count": 18,
     "metadata": {},
     "output_type": "execute_result"
    }
   ],
   "source": [
    "pbest_obj"
   ]
  },
  {
   "cell_type": "code",
   "execution_count": 19,
   "id": "6a379226",
   "metadata": {},
   "outputs": [],
   "source": [
    "def update():\n",
    "    \"Function to do one iteration of particle swarm optimization\"\n",
    "    global V_param1,V_param2, params1,params2, pbest, pbest_obj, gbest, gbest_obj\n",
    "    # Update params\n",
    "    r11,r12, r2 = np.random.rand(3)\n",
    "    V_param1=w1*V_param1+c1*r11*(pbest[0] - params1)+ c2*r2*(gbest[0]-params1)\n",
    "    V_param2=w2*V_param2+c1*r12*(pbest[1] - params2)+ c2*r2*(gbest[1]-params2)    \n",
    "#     V = w * V + c1*r11*(pbest - params1) + c2*r2*(gbest.reshape(-1,1)-X)\n",
    "    params1 = params1 + V_param1\n",
    "    params2 = params2 + V_param2\n",
    "    \n",
    "    obj = objective_fn_vector(params1, params2, X_train, y_train)\n",
    "    for i in range(pbest[0].shape[0]):\n",
    "        if pbest_obj[i]>=obj[i]:\n",
    "            pbest[0][i]=params1[i]\n",
    "            pbest[1][i]=params2[i]\n",
    "            pbest_obj[i]=obj[i]\n",
    "\n",
    "            \n",
    "    gbest=(params1[pbest_obj.argmin()],params2[pbest_obj.argmin()])\n",
    "    gbest_obj = pbest_obj.min()\n",
    " \n"
   ]
  },
  {
   "cell_type": "code",
   "execution_count": 20,
   "id": "97c5ff7d",
   "metadata": {},
   "outputs": [
    {
     "name": "stdout",
     "output_type": "stream",
     "text": [
      "PSO found best solution at f((array([0.64227925, 0.27855107, 0.47590872, 0.86590257]), 0.6704879386456812))=0.4161039895073432\n",
      "Global optimal at f([array([0.84095501, 0.08586732, 0.608571  , 0.92579005]), 0.6739728092759083])=0.4620281046196322\n"
     ]
    }
   ],
   "source": [
    "for i in range(100):\n",
    "    update()\n",
    "print(\"PSO found best solution at f({})={}\".format(gbest, gbest_obj))\n",
    "print(\"Global optimal at f({})={}\".format([param1_min,param2_min], objective_fn(param1_min, param2_min, X_train, y_train)))\n"
   ]
  },
  {
   "cell_type": "code",
   "execution_count": null,
   "id": "db86ca74",
   "metadata": {},
   "outputs": [],
   "source": []
  },
  {
   "cell_type": "code",
   "execution_count": null,
   "id": "07278bb3",
   "metadata": {},
   "outputs": [],
   "source": []
  },
  {
   "cell_type": "code",
   "execution_count": null,
   "id": "f7c7f18f",
   "metadata": {},
   "outputs": [],
   "source": []
  },
  {
   "cell_type": "markdown",
   "id": "81bab401",
   "metadata": {},
   "source": [
    "### End of task 3"
   ]
  },
  {
   "cell_type": "code",
   "execution_count": null,
   "id": "ce9f4b89",
   "metadata": {},
   "outputs": [],
   "source": [
    "def change_weights(weights):\n",
    "    new_weights=[]\n",
    "    for i in range(weights[-1].shape[0]):\n",
    "        new_weights.append(np.random.uniform(0,1))\n",
    "    return np.array(new_weights)"
   ]
  },
  {
   "cell_type": "code",
   "execution_count": null,
   "id": "12921475",
   "metadata": {},
   "outputs": [],
   "source": [
    "def apply_and_measure_accuracy(X,y,weights):    \n",
    "    res=np.sum(X*weights[-1],axis=1)\n",
    "    res = np.tanh(res)\n",
    "    res[res>0.5]=1\n",
    "    res[res<=0.5]=0\n",
    "    acc=accuracy_score(y, res)\n",
    "    return acc\n",
    "    \n",
    "def get_train_test_accuracy(X_train,y_train,X_test,y_test,weights):\n",
    "    train_acc=apply_and_measure_accuracy(X_train,y_train,weights)\n",
    "    test_acc=apply_and_measure_accuracy(X_test,y_test,weights)\n",
    "    return train_acc,test_acc\n",
    "    "
   ]
  },
  {
   "cell_type": "code",
   "execution_count": null,
   "id": "139b2ea3",
   "metadata": {},
   "outputs": [],
   "source": [
    "wt_init=[initialize_weights(num_feats)]\n",
    "res=np.sum(X_test*wt_init[-1],axis=1)\n",
    "res = np.tanh(res)\n",
    "res[res>0.5]=1\n",
    "res[res<=0.5]=0\n",
    "print(res.shape)\n",
    "acc=accuracy_score(y_test, res)\n",
    "test_accuracies=[acc]\n",
    "\n",
    "res=np.sum(X_train*wt_init[-1],axis=1)\n",
    "res = np.tanh(res)\n",
    "res[res>0.5]=1\n",
    "res[res<=0.5]=0\n",
    "print(res.shape)\n",
    "acc=accuracy_score(y_train, res)\n",
    "\n",
    "train_accuracies=[acc]\n",
    "print(\"Initial test acc\",test_accuracies)\n",
    "\n",
    "\n",
    "\n",
    "\n",
    "def train_weights(X_train,y_train,X_test,y_test,weights,train_accuracies,test_accuracies):\n",
    "    print(\"Trial number \",len(weights))\n",
    "    \n",
    "    train_acc,test_acc=get_train_test_accuracy(X_train,y_train,X_test,y_test,weights)\n",
    "    \n",
    "    \n",
    "    \n",
    "    # store the accuracy in this list of accuracies\n",
    "    train_accuracies.append(train_acc)\n",
    "    test_accuracies.append(test_acc)\n",
    "    print(\"train\",train_acc,\"test\",test_acc)\n",
    "    print(test_accuracies[-1],test_accuracies[-2])\n",
    "    \n",
    "    # exit condition\n",
    "    if test_accuracies[-1]<test_accuracies[-2]:\n",
    "        print(\"returning\")\n",
    "        return weights,train_accuracies,test_accuracies\n",
    "    \n",
    "    # change the weights according to the accuracy\n",
    "    new_weights=change_weights(weights)\n",
    "    weights.append(new_weights)\n",
    "    return train_weights(X_train,y_train,X_test,y_test,weights,train_accuracies,test_accuracies)\n",
    "    \n"
   ]
  },
  {
   "cell_type": "code",
   "execution_count": null,
   "id": "e9f32ff2",
   "metadata": {},
   "outputs": [],
   "source": []
  },
  {
   "cell_type": "code",
   "execution_count": null,
   "id": "0264aa6b",
   "metadata": {},
   "outputs": [],
   "source": [
    "weights,train_accuracies,test_accuracies=train_weights(X_train,y_train,X_test,y_test,wt_init,train_accuracies,test_accuracies)\n"
   ]
  },
  {
   "cell_type": "code",
   "execution_count": null,
   "id": "f66e4778",
   "metadata": {},
   "outputs": [],
   "source": [
    "\n"
   ]
  },
  {
   "cell_type": "code",
   "execution_count": null,
   "id": "b82aabf8",
   "metadata": {},
   "outputs": [],
   "source": [
    "### Test the weights in the pre-final iteration\n",
    "res=np.sum(X_test*weights[-2],axis=1)\n",
    "res = np.tanh(res)\n",
    "res[res>0.5]=1\n",
    "res[res<=0.5]=0\n",
    "acc=accuracy_score(y_test, res)\n",
    "print(acc)\n",
    "print(res)"
   ]
  },
  {
   "cell_type": "code",
   "execution_count": null,
   "id": "731b42be",
   "metadata": {},
   "outputs": [],
   "source": []
  }
 ],
 "metadata": {
  "kernelspec": {
   "display_name": "py37kern",
   "language": "python",
   "name": "py37kern"
  },
  "language_info": {
   "codemirror_mode": {
    "name": "ipython",
    "version": 3
   },
   "file_extension": ".py",
   "mimetype": "text/x-python",
   "name": "python",
   "nbconvert_exporter": "python",
   "pygments_lexer": "ipython3",
   "version": "3.7.0"
  }
 },
 "nbformat": 4,
 "nbformat_minor": 5
}
