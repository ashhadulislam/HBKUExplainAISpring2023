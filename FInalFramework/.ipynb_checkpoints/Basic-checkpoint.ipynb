{
 "cells": [
  {
   "cell_type": "code",
   "execution_count": 1,
   "id": "fc10afce",
   "metadata": {},
   "outputs": [],
   "source": [
    "from sklearn import datasets\n",
    "from sklearn.model_selection import train_test_split\n",
    "import numpy as np\n",
    "from sklearn.metrics import accuracy_score\n",
    "\n",
    "\n",
    "\n",
    "# import some data to play with\n",
    "iris = datasets.load_iris()\n",
    "X = iris.data\n",
    "y = iris.target\n",
    "\n",
    "X_train, X_test, y_train, y_test = train_test_split(\n",
    "     X, y, test_size=0.33, random_state=42)\n",
    "\n",
    "# def change_weights(X_train,y_train,X_test,y_test,weights):"
   ]
  },
  {
   "cell_type": "code",
   "execution_count": 2,
   "id": "66a4e0c9",
   "metadata": {},
   "outputs": [],
   "source": [
    "# X"
   ]
  },
  {
   "cell_type": "code",
   "execution_count": 3,
   "id": "d3120181",
   "metadata": {},
   "outputs": [],
   "source": [
    "# iris"
   ]
  },
  {
   "cell_type": "code",
   "execution_count": 4,
   "id": "6b7e9b98",
   "metadata": {},
   "outputs": [],
   "source": [
    "num_feats=X_train.shape[1]\n",
    "def initialize_weights(number_features):\n",
    "    '''\n",
    "    the first set of weights corresponding to the features\n",
    "    defaults to 1\n",
    "    '''\n",
    "    \n",
    "    weights=np.array([2 for i in range(number_features)])\n",
    "    return weights\n",
    "    "
   ]
  },
  {
   "cell_type": "code",
   "execution_count": 5,
   "id": "6792d233",
   "metadata": {},
   "outputs": [
    {
     "name": "stdout",
     "output_type": "stream",
     "text": [
      "[2 2 2 2]\n"
     ]
    }
   ],
   "source": [
    "print(initialize_weights(num_feats))"
   ]
  },
  {
   "cell_type": "code",
   "execution_count": 6,
   "id": "78c0cb82",
   "metadata": {},
   "outputs": [
    {
     "data": {
      "text/plain": [
       "array([1, 0, 2, 1, 1, 0, 1, 2, 1, 1, 2, 0, 0, 0, 0, 1, 2, 1, 1, 2, 0, 2,\n",
       "       0, 2, 2, 2, 2, 2, 0, 0, 0, 0, 1, 0, 0, 2, 1, 0, 0, 0, 2, 1, 1, 0,\n",
       "       0, 1, 2, 2, 1, 2])"
      ]
     },
     "execution_count": 6,
     "metadata": {},
     "output_type": "execute_result"
    }
   ],
   "source": [
    "y_test"
   ]
  },
  {
   "cell_type": "code",
   "execution_count": 7,
   "id": "ce9f4b89",
   "metadata": {},
   "outputs": [],
   "source": [
    "def change_weights(weights):\n",
    "    new_weights=[]\n",
    "    for i in range(weights[-1].shape[0]):\n",
    "        new_weights.append(np.random.uniform(0,1))\n",
    "    return np.array(new_weights)"
   ]
  },
  {
   "cell_type": "code",
   "execution_count": 8,
   "id": "12921475",
   "metadata": {},
   "outputs": [],
   "source": [
    "def apply_and_measure_accuracy(X,y,weights):    \n",
    "    res=np.sum(X*weights[-1],axis=1)\n",
    "    res = np.tanh(res)\n",
    "    res[res>0.5]=1\n",
    "    res[res<=0.5]=0\n",
    "    acc=accuracy_score(y, res)\n",
    "    return acc\n",
    "    \n",
    "def get_train_test_accuracy(X_train,y_train,X_test,y_test,weights):\n",
    "    train_acc=apply_and_measure_accuracy(X_train,y_train,weights)\n",
    "    test_acc=apply_and_measure_accuracy(X_test,y_test,weights)\n",
    "    return train_acc,test_acc\n",
    "    "
   ]
  },
  {
   "cell_type": "code",
   "execution_count": 13,
   "id": "139b2ea3",
   "metadata": {},
   "outputs": [
    {
     "name": "stdout",
     "output_type": "stream",
     "text": [
      "(50,)\n",
      "(100,)\n",
      "Initial test acc [0.3]\n"
     ]
    }
   ],
   "source": [
    "wt_init=[initialize_weights(num_feats)]\n",
    "res=np.sum(X_test*wt_init[-1],axis=1)\n",
    "res = np.tanh(res)\n",
    "res[res>0.5]=1\n",
    "res[res<=0.5]=0\n",
    "print(res.shape)\n",
    "acc=accuracy_score(y_test, res)\n",
    "test_accuracies=[acc]\n",
    "\n",
    "res=np.sum(X_train*wt_init[-1],axis=1)\n",
    "res = np.tanh(res)\n",
    "res[res>0.5]=1\n",
    "res[res<=0.5]=0\n",
    "print(res.shape)\n",
    "acc=accuracy_score(y_train, res)\n",
    "\n",
    "train_accuracies=[acc]\n",
    "print(\"Initial test acc\",test_accuracies)\n",
    "\n",
    "\n",
    "\n",
    "\n",
    "def train_weights(X_train,y_train,X_test,y_test,weights,train_accuracies,test_accuracies):\n",
    "    print(\"Trial number \",len(weights))\n",
    "    \n",
    "    train_acc,test_acc=get_train_test_accuracy(X_train,y_train,X_test,y_test,weights)\n",
    "    \n",
    "    \n",
    "    \n",
    "    # store the accuracy in this list of accuracies\n",
    "    train_accuracies.append(train_acc)\n",
    "    test_accuracies.append(test_acc)\n",
    "    print(\"train\",train_acc,\"test\",test_acc)\n",
    "    print(test_accuracies[-1],test_accuracies[-2])\n",
    "    \n",
    "    # exit condition\n",
    "    if test_accuracies[-1]<test_accuracies[-2]:\n",
    "        print(\"returning\")\n",
    "        return weights,train_accuracies,test_accuracies\n",
    "    \n",
    "    # change the weights according to the accuracy\n",
    "    new_weights=change_weights(weights)\n",
    "    weights.append(new_weights)\n",
    "    return train_weights(X_train,y_train,X_test,y_test,weights,train_accuracies,test_accuracies)\n",
    "    \n"
   ]
  },
  {
   "cell_type": "code",
   "execution_count": null,
   "id": "e9f32ff2",
   "metadata": {},
   "outputs": [],
   "source": []
  },
  {
   "cell_type": "code",
   "execution_count": null,
   "id": "0264aa6b",
   "metadata": {},
   "outputs": [],
   "source": [
    "weights,train_accuracies,test_accuracies=train_weights(X_train,y_train,X_test,y_test,wt_init,train_accuracies,test_accuracies)\n"
   ]
  },
  {
   "cell_type": "code",
   "execution_count": 16,
   "id": "f66e4778",
   "metadata": {},
   "outputs": [
    {
     "data": {
      "text/plain": [
       "[0.3, 0.42, 0.3]"
      ]
     },
     "execution_count": 16,
     "metadata": {},
     "output_type": "execute_result"
    }
   ],
   "source": [
    "\n"
   ]
  },
  {
   "cell_type": "code",
   "execution_count": 20,
   "id": "b82aabf8",
   "metadata": {},
   "outputs": [
    {
     "name": "stdout",
     "output_type": "stream",
     "text": [
      "0.42\n",
      "[1. 1. 1. 1. 1. 1. 1. 1. 1. 1. 1. 0. 0. 0. 1. 1. 1. 1. 1. 1. 1. 1. 1. 1.\n",
      " 1. 1. 1. 1. 1. 1. 0. 1. 1. 1. 0. 1. 1. 1. 1. 0. 1. 1. 1. 1. 1. 1. 1. 1.\n",
      " 1. 1.]\n"
     ]
    }
   ],
   "source": [
    "### Test the weights in the pre-final iteration\n",
    "res=np.sum(X_test*weights[-2],axis=1)\n",
    "res = np.tanh(res)\n",
    "res[res>0.5]=1\n",
    "res[res<=0.5]=0\n",
    "acc=accuracy_score(y_test, res)\n",
    "print(acc)\n",
    "print(res)"
   ]
  },
  {
   "cell_type": "code",
   "execution_count": null,
   "id": "731b42be",
   "metadata": {},
   "outputs": [],
   "source": []
  }
 ],
 "metadata": {
  "kernelspec": {
   "display_name": "py37kern",
   "language": "python",
   "name": "py37kern"
  },
  "language_info": {
   "codemirror_mode": {
    "name": "ipython",
    "version": 3
   },
   "file_extension": ".py",
   "mimetype": "text/x-python",
   "name": "python",
   "nbconvert_exporter": "python",
   "pygments_lexer": "ipython3",
   "version": "3.7.0"
  }
 },
 "nbformat": 4,
 "nbformat_minor": 5
}
