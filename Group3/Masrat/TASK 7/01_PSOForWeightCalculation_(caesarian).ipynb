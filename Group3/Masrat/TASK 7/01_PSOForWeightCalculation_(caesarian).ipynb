{
  "cells": [
    {
      "cell_type": "code",
      "execution_count": 34,
      "id": "5b7eb58a",
      "metadata": {
        "id": "5b7eb58a"
      },
      "outputs": [],
      "source": [
        "from sklearn import datasets\n",
        "from sklearn.model_selection import train_test_split\n",
        "import numpy as np\n",
        "from sklearn.metrics import accuracy_score\n",
        "\n",
        "from scipy.stats import entropy\n",
        "import random\n",
        "\n",
        "import pandas as pd\n",
        "from copy import deepcopy\n",
        "import matplotlib.pyplot as plt\n",
        "from sklearn.tree import DecisionTreeClassifier"
      ]
    },
    {
      "cell_type": "code",
      "execution_count": 34,
      "id": "f61930fb",
      "metadata": {
        "id": "f61930fb"
      },
      "outputs": [],
      "source": []
    },
    {
      "cell_type": "code",
      "execution_count": 35,
      "id": "c82532a8",
      "metadata": {
        "id": "c82532a8"
      },
      "outputs": [],
      "source": [
        "\n",
        "def multiply_weight(X,w):\n",
        "    return np.dot(X,w)\n",
        "\n",
        "def generate_particle(num_parameters):\n",
        "    '''\n",
        "    we generate num_parameters parameters with values between 0 and 1 random uniform\n",
        "    '''\n",
        "    particle=np.array([np.random.uniform() for i in range(num_parameters)])\n",
        "    return particle\n",
        "\n",
        "def generate_n_particles(n,num_parameters):\n",
        "    particles=[]\n",
        "    for i in range(n):\n",
        "        particles.append(generate_particle(num_parameters))\n",
        "    return np.array(particles)"
      ]
    },
    {
      "cell_type": "code",
      "execution_count": 36,
      "id": "5a0372cd",
      "metadata": {
        "id": "5a0372cd"
      },
      "outputs": [],
      "source": [
        "def get_entropy_from_groups(new_entropies,count_items):\n",
        "    overall_new_entropy = 0\n",
        "    \n",
        "    # Calculating the total number of items\n",
        "    total_items = sum(count_items)\n",
        "    \n",
        "    for i in range(len(new_entropies)):\n",
        "        # Calculating the proportion of items in the current partition\n",
        "        proportion = count_items[i] / total_items\n",
        "        \n",
        "        # Adding the entropy of the current partition weighted by its proportion to the overall new entropy\n",
        "        overall_new_entropy += new_entropies[i] * proportion\n",
        "        \n",
        "    return overall_new_entropy    \n",
        "\n",
        "\n",
        "def calc_entropy_from_probabilities(list_probas):\n",
        "    '''\n",
        "    list_probas is the list of probabiities\n",
        "    the formula for entropy is\n",
        "    sum(-proba*log(proba))\n",
        "    \n",
        "    '''\n",
        "    \n",
        "    entropy_value = 0\n",
        "\n",
        "    for proba in list_probas:\n",
        "        # If the probability is not zero\n",
        "        if proba != 0:\n",
        "            entropy_value += -proba * np.log(proba)\n",
        "     \n",
        "    return entropy_value\n",
        "\n",
        "def calculate_probabilities(list_labels, uniq_labels):\n",
        "    '''\n",
        "    this function calculates the probabilities of each label in the list of labels\n",
        "    it is calculated by number of labels in class A/all labels\n",
        "    number of labels in class B/all labels\n",
        "    and so on\n",
        "    '''\n",
        "    \n",
        "    # A dictionary to store the probabilities\n",
        "    probabilities = dict.fromkeys(uniq_labels, 0)\n",
        "    \n",
        "    # Total number of labels\n",
        "    total_labels = len(list_labels)\n",
        "    \n",
        "    for label in uniq_labels:\n",
        "        # Counting the number of times the label occurs in the list\n",
        "        count = list_labels.count(label)\n",
        "        \n",
        "        # Calculating the probability of the label\n",
        "        probability = count / total_labels\n",
        "        \n",
        "        # Storing the calculated probability in the dictionary\n",
        "        probabilities[label] = probability\n",
        "        \n",
        "    return probabilities    \n",
        "\n",
        "def objective_function(X,y,particle):\n",
        "    '''\n",
        "    this is binary classification objective\n",
        "    using entropy\n",
        "    '''\n",
        "    res=multiply_weight(X,particle[0:X.shape[1]])\n",
        "#     print(res.shape)\n",
        "    res = (res-np.min(res))/(np.max(res)-np.min(res))\n",
        "\n",
        "    # make two groups\n",
        "    group1=[]\n",
        "    group2=[]\n",
        "\n",
        "    for i in range(res.shape[0]):\n",
        "    #     print(i,res[i],particle[-1])\n",
        "        if res[i]<particle[-1]:\n",
        "            group1.append(y[i])\n",
        "        else:\n",
        "            group2.append(y[i])\n",
        "\n",
        "\n",
        "\n",
        "    proba_gr1=calculate_probabilities(group1,np.unique(group1).tolist())\n",
        "    proba_gr1=list(proba_gr1.values()) \n",
        "    entropy_group1=calc_entropy_from_probabilities(proba_gr1)\n",
        "    count_group1=len(proba_gr1)\n",
        "\n",
        "    \n",
        "    proba_gr2=calculate_probabilities(group2,np.unique(group2).tolist())\n",
        "    proba_gr2=list(proba_gr2.values()) \n",
        "    entropy_group2=calc_entropy_from_probabilities(proba_gr2)\n",
        "    count_group2=len(proba_gr2)\n",
        "\n",
        "\n",
        "#     print(\"entropies\",entropy_group1,entropy_group2)\n",
        "    new_entropies=[entropy_group1,entropy_group2]\n",
        "    count_items=[count_group1,count_group2]\n",
        "    overall_new_entropy=get_entropy_from_groups(new_entropies,count_items)\n",
        "\n",
        "#     print(overall_new_entropy)\n",
        "    return overall_new_entropy\n",
        "    \n",
        "    \n",
        "    \n",
        "# def objective_function(X,y,particle):\n",
        "#     '''\n",
        "#     this is binary classification objective\n",
        "#     using (1-accuracy)\n",
        "#     '''\n",
        "#     res=multiply_weight(X,particle[0:X.shape[1]])\n",
        "# #     print(res)\n",
        "#     res = (res-np.min(res))/(np.max(res)-np.min(res))\n",
        "# #     print(res)\n",
        "#     res[res<particle[-1]]=0\n",
        "#     res[res>=particle[-1]]=1\n",
        "# #     print(res)\n",
        "#     acc=accuracy_score(y,res)\n",
        "# #     print(acc)\n",
        "#     loss=1-acc\n",
        "    \n",
        "#     return loss\n",
        "    \n",
        "    "
      ]
    },
    {
      "cell_type": "code",
      "execution_count": 37,
      "id": "f1ad9e17",
      "metadata": {
        "id": "f1ad9e17"
      },
      "outputs": [],
      "source": [
        "def update_velocity_of_particle(particle,velocity, best_particle, gbest_particle, w_min=0.5, max=1.0, c=0.1):\n",
        "    new_vel=np.array([0.0 for i in range(particle.shape[0])])\n",
        "    # Randomly generate r1, r2 and inertia weight from normal distribution\n",
        "    r1 = random.uniform(0,max)\n",
        "    r2 = random.uniform(0,max)\n",
        "    w = random.uniform(w_min,max)\n",
        "    c1=c\n",
        "    c2=c\n",
        "    # Calculate new velocity    \n",
        "    for i in range(new_vel.shape[0]):\n",
        "        component1=w*velocity[i]\n",
        "        component2=c1*r1*(best_particle[i]-particle[i])\n",
        "        component3=c2*r2*(gbest_particle[i]-particle[i])\n",
        "#         print(component1,component2,component3)\n",
        "        new_vel[i]= component1+component2 +component3\n",
        "#         print(new_vel[i])\n",
        "#     print(new_vel)\n",
        "    return new_vel\n",
        "\n",
        "\n",
        "def update_position(particle, velocity):\n",
        "  # Move particles by adding velocity\n",
        "    new_particle = particle + velocity\n",
        "    return new_particle"
      ]
    },
    {
      "cell_type": "markdown",
      "id": "1c0a7219",
      "metadata": {
        "id": "1c0a7219"
      },
      "source": [
        "### Load data"
      ]
    },
    {
      "cell_type": "code",
      "execution_count": 38,
      "id": "bf06003f",
      "metadata": {
        "id": "bf06003f",
        "outputId": "aef44967-538e-42ba-c433-fc3deb7d1276",
        "colab": {
          "base_uri": "https://localhost:8080/"
        }
      },
      "outputs": [
        {
          "output_type": "stream",
          "name": "stdout",
          "text": [
            "(53, 2) (53,) (27, 2) (27,)\n",
            "[0.5 1. ] 1\n",
            "[0. 0.] 0\n"
          ]
        }
      ],
      "source": [
        "# Change dataset here\n",
        "test_size=0.33\n",
        "\n",
        "# for algeria forest fire data\n",
        "df=pd.read_csv(\"/content/caesarian (1).csv\")\n",
        "\n",
        "df.head()\n",
        "\n",
        "X=df.iloc[:,3:-1].values\n",
        "y=df.iloc[:,-1].values\n",
        "\n",
        "\n",
        "\n",
        "\n",
        "# for breast cancer\n",
        "# bc_data = datasets.load_breast_cancer()\n",
        "# X = bc_data.data\n",
        "# y = bc_data.target\n",
        "\n",
        "X_train, X_test, y_train, y_test = train_test_split(\n",
        "     X, y, test_size=test_size, random_state=42)\n",
        "\n",
        "\n",
        "# normalize the data\n",
        "from sklearn.preprocessing import MinMaxScaler\n",
        "scaler = MinMaxScaler()\n",
        "X_train=scaler.fit_transform(X_train)\n",
        "X_test=scaler.transform(X_test)\n",
        "\n",
        "\n",
        "print(X_train.shape,y_train.shape,X_test.shape,y_test.shape)\n",
        "print(X_train[0],y_train[0])\n",
        "print(X_test[0],y_test[0])"
      ]
    },
    {
      "cell_type": "code",
      "execution_count": 39,
      "id": "5d57d844",
      "metadata": {
        "id": "5d57d844",
        "outputId": "d989779e-fb17-447c-dc5b-d65ba1b9a432",
        "colab": {
          "base_uri": "https://localhost:8080/"
        }
      },
      "outputs": [
        {
          "output_type": "execute_result",
          "data": {
            "text/plain": [
              "0.6395498994317481"
            ]
          },
          "metadata": {},
          "execution_count": 39
        }
      ],
      "source": [
        "num_particles=5\n",
        "particles=generate_n_particles(num_particles,X_train.shape[1]+1)\n",
        "particle=particles[0]\n",
        "objective_function(X_train,y_train,particle)\n"
      ]
    },
    {
      "cell_type": "markdown",
      "id": "afe764d1",
      "metadata": {
        "id": "afe764d1"
      },
      "source": [
        "### Train and test model"
      ]
    },
    {
      "cell_type": "code",
      "execution_count": 40,
      "id": "87b17d7e",
      "metadata": {
        "scrolled": true,
        "id": "87b17d7e",
        "outputId": "25fd82c3-f194-45ce-c6a5-3dccfc0e481f",
        "colab": {
          "base_uri": "https://localhost:8080/",
          "height": 502
        }
      },
      "outputs": [
        {
          "output_type": "stream",
          "name": "stdout",
          "text": [
            "Train loss at the beginning 0.4619472111439946\n",
            "Test Loss at the beginning 0.6158315539557269\n",
            "Train Loss at end 0.4619472111439946\n",
            "Test Loss at end 0.6158315539557269\n"
          ]
        },
        {
          "output_type": "display_data",
          "data": {
            "text/plain": [
              "<Figure size 640x480 with 1 Axes>"
            ],
            "image/png": "[encoded data removed]"
          },
          "metadata": {}
        }
      ],
      "source": [
        "colors=['b','g','r','c','m','y','k','w']\n",
        "\n",
        "# initialization\n",
        "\n",
        "num_particles=25\n",
        "particles=generate_n_particles(num_particles,X_train.shape[1]+1)\n",
        "particles_best=deepcopy(particles)\n",
        "gbest_particle=particles[0]\n",
        "\n",
        "\n",
        "\n",
        "velocities = [[0.0 for j in range(particles.shape[1])] for i in range(particles.shape[0])]\n",
        "\n",
        "\n",
        "for i in range(particles.shape[0]):\n",
        "    particle=particles[i]\n",
        "    loss=objective_function(X_train,y_train,particle)\n",
        "    loss_best_this_particle=objective_function(X_train,y_train,particles_best[i])\n",
        "    if loss<loss_best_this_particle:\n",
        "        particles_best[i]=particle\n",
        "    loss_best_global=objective_function(X_train,y_train,gbest_particle)\n",
        "    if loss<loss_best_global:\n",
        "        gbest_particle=particle\n",
        "\n",
        "print(\"Train loss at the beginning\",objective_function(X_train,y_train,gbest_particle))\n",
        "print(\"Test Loss at the beginning\",objective_function(X_test,y_test,gbest_particle))\n",
        "\n",
        "\n",
        "\n",
        "# run the PSO\n",
        "\n",
        "# perform PSO here\n",
        "num_epochs=20\n",
        "\n",
        "train_losses=[[] for i in range(particles.shape[0])]\n",
        "\n",
        "for epoch in range(num_epochs):\n",
        "    for i in range(particles.shape[0]):\n",
        "        \n",
        "        particle=particles[i]\n",
        "        if i <len(colors):\n",
        "            plt.scatter(particle[0],particle[-1],color=colors[i])\n",
        "        \n",
        "        velocity=velocities[i]\n",
        "        best_particle=particles_best[i]\n",
        "        # Update the velocity of each particle\n",
        "        new_vel=update_velocity_of_particle(particle,velocity, best_particle, gbest_particle)\n",
        "        velocities[i]=new_vel\n",
        "        particles[i]=update_position(particle, new_vel)\n",
        "#         print(\"particle \",i,\"threshold\",particles[i][-1])\n",
        "\n",
        "\n",
        "\n",
        "    # after all particles have been updated\n",
        "    # time to update the bests\n",
        "    for i in range(particles.shape[0]):\n",
        "#         print(\"epoch\",epoch,\"particle\",i)\n",
        "        particle=particles[i]\n",
        "        loss=objective_function(X_train,y_train,particle)\n",
        "        train_losses[i].append(loss)\n",
        "        loss_best_this_particle=objective_function(X_train,y_train,particles_best[i])\n",
        "        if loss<loss_best_this_particle:\n",
        "            particles_best[i]=particle\n",
        "        loss_best_global=objective_function(X_train,y_train,gbest_particle)\n",
        "        if loss<loss_best_global:\n",
        "            gbest_particle=particle\n",
        "\n",
        "            \n",
        "print(\"Train Loss at end\",objective_function(X_train,y_train,gbest_particle))\n",
        "print(\"Test Loss at end\",objective_function(X_test,y_test,gbest_particle))"
      ]
    },
    {
      "cell_type": "code",
      "execution_count": 41,
      "id": "c5150c25",
      "metadata": {
        "id": "c5150c25",
        "outputId": "603b223f-32df-47b0-b286-1456585293d6",
        "colab": {
          "base_uri": "https://localhost:8080/",
          "height": 433
        }
      },
      "outputs": [
        {
          "output_type": "display_data",
          "data": {
            "text/plain": [
              "<Figure size 640x480 with 1 Axes>"
            ],
            "image/png": "[encoded data removed]"
          },
          "metadata": {}
        }
      ],
      "source": [
        "for i in range(len(train_losses)):\n",
        "    plt.plot(train_losses[i])"
      ]
    },
    {
      "cell_type": "code",
      "execution_count": 42,
      "id": "e1f00289",
      "metadata": {
        "id": "e1f00289"
      },
      "outputs": [],
      "source": [
        "res_train=multiply_weight(X_train,gbest_particle[:-1])\n",
        "min_res_train=np.min(res_train)\n",
        "max_res_train=np.max(res_train)\n",
        "range_res_train=(max_res_train-min_res_train)\n",
        "res_test=multiply_weight(X_test,gbest_particle[:-1])\n",
        "res_test=(res_test-min_res_train)/range_res_train\n",
        "\n",
        "threshold=gbest_particle[-1]\n",
        "y_hat=[]\n",
        "\n",
        "for i in range(res_test.shape[0]):\n",
        "    if res_test[i]<threshold:\n",
        "        y_hat.append(0)\n",
        "    else:\n",
        "        y_hat.append(1)"
      ]
    },
    {
      "cell_type": "code",
      "execution_count": 43,
      "id": "2e54bb76",
      "metadata": {
        "id": "2e54bb76",
        "outputId": "0e0260a1-2dbf-4604-8070-1e4d597d8e24",
        "colab": {
          "base_uri": "https://localhost:8080/"
        }
      },
      "outputs": [
        {
          "output_type": "stream",
          "name": "stdout",
          "text": [
            "accuracy after PSO single level 0.4444444444444444\n"
          ]
        }
      ],
      "source": [
        "print(\"accuracy after PSO single level\",accuracy_score(y_hat,y_test))"
      ]
    },
    {
      "cell_type": "code",
      "execution_count": 44,
      "id": "8508efcc",
      "metadata": {
        "id": "8508efcc",
        "outputId": "459f95de-bad3-41dc-dd2c-bcf87723954c",
        "colab": {
          "base_uri": "https://localhost:8080/"
        }
      },
      "outputs": [
        {
          "output_type": "stream",
          "name": "stdout",
          "text": [
            "Accuracy after decision tree 0.48148148148148145\n"
          ]
        }
      ],
      "source": [
        "decision_tree = DecisionTreeClassifier(random_state=0, max_depth=4)\n",
        "decision_tree = decision_tree.fit(X_train,y_train)\n",
        "print(\"Accuracy after decision tree\", accuracy_score(decision_tree.predict(X_test),y_test))"
      ]
    },
    {
      "cell_type": "code",
      "execution_count": 44,
      "id": "cd3934b8",
      "metadata": {
        "id": "cd3934b8"
      },
      "outputs": [],
      "source": []
    }
  ],
  "metadata": {
    "kernelspec": {
      "display_name": "yolo5py37_kern",
      "language": "python",
      "name": "yolo5py37_kern"
    },
    "language_info": {
      "codemirror_mode": {
        "name": "ipython",
        "version": 3
      },
      "file_extension": ".py",
      "mimetype": "text/x-python",
      "name": "python",
      "nbconvert_exporter": "python",
      "pygments_lexer": "ipython3",
      "version": "3.7.11"
    },
    "colab": {
      "provenance": []
    }
  },
  "nbformat": 4,
  "nbformat_minor": 5
}