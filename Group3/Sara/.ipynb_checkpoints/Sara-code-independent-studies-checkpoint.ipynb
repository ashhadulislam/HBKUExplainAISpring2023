{
 "cells": [
  {
   "cell_type": "code",
   "execution_count": 10,
   "metadata": {
    "_cell_guid": "b1076dfc-b9ad-4769-8c92-a6c4dae69d19",
    "_uuid": "8f2839f25d086af736a60e9eeb907d3b93b6e0e5",
    "execution": {
     "iopub.execute_input": "2023-02-01T15:00:43.293697Z",
     "iopub.status.busy": "2023-02-01T15:00:43.293171Z",
     "iopub.status.idle": "2023-02-01T15:00:43.303568Z",
     "shell.execute_reply": "2023-02-01T15:00:43.302405Z",
     "shell.execute_reply.started": "2023-02-01T15:00:43.293661Z"
    }
   },
   "outputs": [],
   "source": [
    "from sklearn import datasets\n",
    "from sklearn.model_selection import train_test_split\n",
    "import numpy as np\n",
    "from sklearn.metrics import accuracy_score\n",
    "\n",
    "from scipy.stats import entropy\n",
    "\n",
    "# import some data to play with\n",
    "iris = datasets.load_iris()\n",
    "X = iris.data\n",
    "y = iris.target\n",
    "\n",
    "X_train, X_test, y_train, y_test = train_test_split(X, y, test_size=0.33, random_state=42)\n",
    "\n",
    "# def change_weights(X_train,y_train,X_test,y_test,weights):"
   ]
  },
  {
   "cell_type": "code",
   "execution_count": 23,
   "metadata": {
    "execution": {
     "iopub.execute_input": "2023-02-01T15:13:47.324772Z",
     "iopub.status.busy": "2023-02-01T15:13:47.324367Z",
     "iopub.status.idle": "2023-02-01T15:13:47.331832Z",
     "shell.execute_reply": "2023-02-01T15:13:47.330531Z",
     "shell.execute_reply.started": "2023-02-01T15:13:47.324741Z"
    }
   },
   "outputs": [
    {
     "name": "stdout",
     "output_type": "stream",
     "text": [
      "1.0549201679861442\n"
     ]
    }
   ],
   "source": [
    "#Check if the entropy function works\n",
    "pk = np.array([1/5, 2/5, 2/5])  # fair coin\n",
    "H = entropy(pk)\n",
    "print(H)\n",
    "#H=-0.2*(np.log(0.2))-0.4*(np.log(0.4))-0.4*(np.log(0.4))\n",
    "#print(H)"
   ]
  },
  {
   "cell_type": "code",
   "execution_count": 12,
   "metadata": {
    "execution": {
     "iopub.execute_input": "2023-02-01T15:00:43.316824Z",
     "iopub.status.busy": "2023-02-01T15:00:43.316488Z",
     "iopub.status.idle": "2023-02-01T15:00:43.324447Z",
     "shell.execute_reply": "2023-02-01T15:00:43.323364Z",
     "shell.execute_reply.started": "2023-02-01T15:00:43.316793Z"
    }
   },
   "outputs": [],
   "source": [
    "'''\n",
    "this function calculates the probabilities of each label in the list of labels\n",
    "it is calculated by number of labels in class A/all labels\n",
    "number of labels in class B/all labels\n",
    "and so on\n",
    "'''\n",
    "#Sara Nassar - sana09516\n",
    "def calculate_probabilities(list_labels, uniq_labels):\n",
    "    # A dictionary to store the probabilities\n",
    "    probabilities = dict.fromkeys(uniq_labels, 0)\n",
    "    \n",
    "    # Total number of labels\n",
    "    total_labels = len(list_labels)\n",
    "    \n",
    "    for label in uniq_labels:\n",
    "        # Counting the number of times the label occurs in the list\n",
    "        count = list_labels.count(label)\n",
    "        \n",
    "        # Calculating the probability of the label\n",
    "        probability = count / total_labels\n",
    "        \n",
    "        # Storing the calculated probability in the dictionary\n",
    "        probabilities[label] = probability\n",
    "        \n",
    "    return probabilities"
   ]
  },
  {
   "cell_type": "code",
   "execution_count": 13,
   "metadata": {
    "execution": {
     "iopub.execute_input": "2023-02-01T15:00:43.326075Z",
     "iopub.status.busy": "2023-02-01T15:00:43.325707Z",
     "iopub.status.idle": "2023-02-01T15:00:43.341752Z",
     "shell.execute_reply": "2023-02-01T15:00:43.340742Z",
     "shell.execute_reply.started": "2023-02-01T15:00:43.326044Z"
    }
   },
   "outputs": [
    {
     "name": "stdout",
     "output_type": "stream",
     "text": [
      "{0: 0.3333333333333333, 1: 0.3333333333333333, 2: 0.3333333333333333}\n"
     ]
    }
   ],
   "source": [
    "# Test your function\n",
    "list_labels=[1,2,0,1,2,0]\n",
    "uniq_labels=[0,1,2]\n",
    "print(calculate_probabilities(list_labels,uniq_labels))"
   ]
  },
  {
   "cell_type": "code",
   "execution_count": 24,
   "metadata": {
    "execution": {
     "iopub.execute_input": "2023-02-01T15:15:14.565675Z",
     "iopub.status.busy": "2023-02-01T15:15:14.565212Z",
     "iopub.status.idle": "2023-02-01T15:15:14.571828Z",
     "shell.execute_reply": "2023-02-01T15:15:14.570812Z",
     "shell.execute_reply.started": "2023-02-01T15:15:14.565632Z"
    }
   },
   "outputs": [],
   "source": [
    "'''\n",
    "list_probas is the list of probabiities\n",
    "the formula for entropy is\n",
    "sum(-proba*log(proba))\n",
    "'''\n",
    "#Sara Nassar - sana09516\n",
    "def calc_entropy_from_probabilities(list_probas):\n",
    "    entropy_value = 0\n",
    "\n",
    "    for proba in list_probas:\n",
    "        # If the probability is not zero\n",
    "        if proba != 0:\n",
    "            entropy_value += -proba * np.log(proba)\n",
    "     \n",
    "    return entropy_value"
   ]
  },
  {
   "cell_type": "code",
   "execution_count": 25,
   "metadata": {
    "execution": {
     "iopub.execute_input": "2023-02-01T15:15:17.324925Z",
     "iopub.status.busy": "2023-02-01T15:15:17.324515Z",
     "iopub.status.idle": "2023-02-01T15:15:17.330939Z",
     "shell.execute_reply": "2023-02-01T15:15:17.329805Z",
     "shell.execute_reply.started": "2023-02-01T15:15:17.324892Z"
    }
   },
   "outputs": [
    {
     "name": "stdout",
     "output_type": "stream",
     "text": [
      "1.0549201679861442\n"
     ]
    }
   ],
   "source": [
    "# Test your function\n",
    "list_probbs=[1/5, 2/5, 2/5]\n",
    "print(calc_entropy_from_probabilities(list_probas))"
   ]
  },
  {
   "cell_type": "code",
   "execution_count": 31,
   "metadata": {
    "execution": {
     "iopub.execute_input": "2023-02-01T15:21:38.722146Z",
     "iopub.status.busy": "2023-02-01T15:21:38.721694Z",
     "iopub.status.idle": "2023-02-01T15:21:38.729274Z",
     "shell.execute_reply": "2023-02-01T15:21:38.728117Z",
     "shell.execute_reply.started": "2023-02-01T15:21:38.722108Z"
    }
   },
   "outputs": [],
   "source": [
    "'''\n",
    "from the list of new entropies, calculate the overall new entropy\n",
    "formula is something like:\n",
    "overall_new_entropy = entropy1*proportion1 + entropy2*proportion2+ entropy3*proportion3 ...\n",
    "igain=old_entropy-overall_new_entropy\n",
    "'''\n",
    "#Sara Nassar - sana09516\n",
    "def information_gain(old_entropy, new_entropies, count_items):\n",
    "    overall_new_entropy = 0\n",
    "    \n",
    "    # Calculating the total number of items\n",
    "    total_items = sum(count_items)\n",
    "    \n",
    "    for i in range(len(new_entropies)):\n",
    "        # Calculating the proportion of items in the current partition\n",
    "        proportion = count_items[i] / total_items\n",
    "        \n",
    "        # Adding the entropy of the current partition weighted by its proportion to the overall new entropy\n",
    "        overall_new_entropy += new_entropies[i] * proportion\n",
    "        \n",
    "    # Calculating the information gain\n",
    "    information_gain = old_entropy - overall_new_entropy\n",
    "    \n",
    "    return information_gain"
   ]
  },
  {
   "cell_type": "code",
   "execution_count": 32,
   "metadata": {
    "execution": {
     "iopub.execute_input": "2023-02-01T15:21:41.983719Z",
     "iopub.status.busy": "2023-02-01T15:21:41.983343Z",
     "iopub.status.idle": "2023-02-01T15:21:41.990478Z",
     "shell.execute_reply": "2023-02-01T15:21:41.989388Z",
     "shell.execute_reply.started": "2023-02-01T15:21:41.983690Z"
    }
   },
   "outputs": [
    {
     "name": "stdout",
     "output_type": "stream",
     "text": [
      "0.61\n"
     ]
    }
   ],
   "source": [
    "# Test your function\n",
    "old_entropy=1\n",
    "new_entropies=[0,0.65]\n",
    "count_items=[4,6]\n",
    "print(information_gain(old_entropy,new_entropies,count_items))\n",
    "# above should print 0.61"
   ]
  }
 ],
 "metadata": {
  "kernelspec": {
   "display_name": "Python 3 (ipykernel)",
   "language": "python",
   "name": "python3"
  },
  "language_info": {
   "codemirror_mode": {
    "name": "ipython",
    "version": 3
   },
   "file_extension": ".py",
   "mimetype": "text/x-python",
   "name": "python",
   "nbconvert_exporter": "python",
   "pygments_lexer": "ipython3",
   "version": "3.9.5"
  }
 },
 "nbformat": 4,
 "nbformat_minor": 4
}
