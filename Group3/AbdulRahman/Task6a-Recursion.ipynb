{
 "cells": [
  {
   "cell_type": "markdown",
   "id": "ec111c35",
   "metadata": {},
   "source": [
    "#### 1a Recursion function to calculate fibonacci number\n",
    "\n",
    "Fibonacci sequence is the series where each number is the sum of its previous 2 numbers. Following is an example\n",
    "\n",
    "1, 1, 2, 3, 5, 8, 13, 21, 34, ....\n",
    "\n",
    "The first two values are 1 and 1 by default"
   ]
  },
  {
   "cell_type": "code",
   "execution_count": 1,
   "id": "740fc8cc",
   "metadata": {},
   "outputs": [],
   "source": [
    "# Write a recursive function to generate the nth number in the fibonacci sequence (starting from 0)\n",
    "# example, fib(1) should return 1\n",
    "# fib(3) should return 3\n",
    "# fib (7) should return 21 ...\n"
   ]
  },
  {
   "cell_type": "code",
   "execution_count": 6,
   "id": "8a611811",
   "metadata": {},
   "outputs": [],
   "source": [
    "def fib(n):\n",
    "    # exit conditions\n",
    "    if n==0 or n==1:\n",
    "        return 1\n",
    "    # recursion condition\n",
    "    return fib(n-1)+fib(n-2)"
   ]
  },
  {
   "cell_type": "code",
   "execution_count": 7,
   "id": "4176d929",
   "metadata": {},
   "outputs": [
    {
     "data": {
      "text/plain": [
       "21"
      ]
     },
     "execution_count": 7,
     "metadata": {},
     "output_type": "execute_result"
    }
   ],
   "source": [
    "fib(7)"
   ]
  },
  {
   "cell_type": "markdown",
   "id": "da9c29a7",
   "metadata": {},
   "source": [
    "#### 1b Non recursive function to calculate fibonacci number"
   ]
  },
  {
   "cell_type": "code",
   "execution_count": 5,
   "id": "e97f8199",
   "metadata": {},
   "outputs": [],
   "source": [
    "# Write a non-recursive function to generate the nth number in the fibonacci sequence (starting from 0)\n",
    "# example, nr_fib(1) should return 1\n",
    "# nr_fib(3) should return 3\n",
    "# nr_fib (7) should return 21 ...\n"
   ]
  },
  {
   "cell_type": "code",
   "execution_count": 12,
   "id": "b98eb318",
   "metadata": {},
   "outputs": [],
   "source": [
    "def nr_fib(n):\n",
    "    if n <= 0:\n",
    "        return 0\n",
    "    elif n == 1:\n",
    "        return 1\n",
    "    else:\n",
    "        arr_n = [0] * n # create an array of n numbers having values 0\n",
    "\n",
    "        # set the first two values of the list\n",
    "        arr_n[0] = 1\n",
    "        arr_n[1] = 2\n",
    "        for i in range(2, n):\n",
    "            arr_n[i] = arr_n[i-1] + arr_n[i-2]\n",
    "\n",
    "        # return the nth element of the list\n",
    "        return arr_n[n-1]\n",
    "\n",
    "    \n",
    "    "
   ]
  },
  {
   "cell_type": "code",
   "execution_count": 7,
   "id": "6449ba44",
   "metadata": {},
   "outputs": [
    {
     "data": {
      "text/plain": [
       "21"
      ]
     },
     "execution_count": 7,
     "metadata": {},
     "output_type": "execute_result"
    }
   ],
   "source": [
    "nr_fib(7)"
   ]
  },
  {
   "cell_type": "markdown",
   "id": "cf16d05d",
   "metadata": {},
   "source": [
    "### Mention 3 points of difference between the above two functions"
   ]
  },
  {
   "cell_type": "markdown",
   "id": "bf195ecd",
   "metadata": {},
   "source": [
    "1. First function is recursive, second function uses a loop \n",
    "\n",
    "2. First function fib(n) has an exponential time complexity O(2^n), second function nr_fib(n) has a linear time complexity O(n)\n",
    "\n",
    "3. first function fib(n) can handle smaller input sizes due to its exponential time complexity, second function nr_fib(n) can handle larger input sizes due to its linear time complexity."
   ]
  },
  {
   "cell_type": "markdown",
   "id": "72dd82f0",
   "metadata": {},
   "source": [
    "#### 2a Recursion function to calculate Factorial of a number\n",
    "\n",
    "Factorial of a number is defined as the product of all numbers till 1\n",
    "\n",
    "fact(4)=4\\*3\\*2\\*1=24\n",
    "\n",
    "fact(7)=7\\*6\\*5\\*4\\*3\\*2\\*1=5040"
   ]
  },
  {
   "cell_type": "code",
   "execution_count": 8,
   "id": "17dd2755",
   "metadata": {},
   "outputs": [],
   "source": [
    "def fact(n):\n",
    "    # exit criteria\n",
    "    if n==1 or n==0:\n",
    "        return 1\n",
    "    # recursion\n",
    "    return n*fact(n-1)"
   ]
  },
  {
   "cell_type": "code",
   "execution_count": 9,
   "id": "5203393f",
   "metadata": {},
   "outputs": [
    {
     "data": {
      "text/plain": [
       "5040"
      ]
     },
     "execution_count": 9,
     "metadata": {},
     "output_type": "execute_result"
    }
   ],
   "source": [
    "fact(7)"
   ]
  },
  {
   "cell_type": "markdown",
   "id": "982985ac",
   "metadata": {},
   "source": [
    "#### 2b Non recursive function to calculate factorial"
   ]
  },
  {
   "cell_type": "code",
   "execution_count": 10,
   "id": "1b9c706c",
   "metadata": {},
   "outputs": [],
   "source": [
    "def nr_fact(n):\n",
    "    arr_n=[1 for i in range(n+1)]\n",
    "    \n",
    "    for i in range(2,n+1):\n",
    "        arr_n[i]=i*arr_n[i-1]\n",
    "    return arr_n[-1]"
   ]
  },
  {
   "cell_type": "code",
   "execution_count": 11,
   "id": "e9205a74",
   "metadata": {},
   "outputs": [
    {
     "data": {
      "text/plain": [
       "5040"
      ]
     },
     "execution_count": 11,
     "metadata": {},
     "output_type": "execute_result"
    }
   ],
   "source": [
    "nr_fact(7)"
   ]
  },
  {
   "cell_type": "markdown",
   "id": "8d46494d",
   "metadata": {},
   "source": [
    "#### 3 Representing binary tree as a list\n",
    "\n",
    "It is necessary to have an idea about how to represent a binary tree as a list\n",
    "\n",
    "         5\n",
    "        / \\\n",
    "       12  9\n",
    "      /   / \\\n",
    "     7   18 33\n",
    "     \n",
    "     \n",
    "l=[5, 12, 9,  7, None,  18, 33]\n",
    "\n",
    "For any node at index n of the list\n",
    "Its children are present at index 2\\*n+1 and 2\\*n+2  (Starting from index 0)"
   ]
  },
  {
   "cell_type": "code",
   "execution_count": 14,
   "id": "5eca9f62",
   "metadata": {},
   "outputs": [
    {
     "name": "stdout",
     "output_type": "stream",
     "text": [
      "12\n",
      "9\n",
      "7\n",
      "33\n",
      "5\n"
     ]
    }
   ],
   "source": [
    "# Define the BinaryTree class\n",
    "class BinaryTree:\n",
    "    \n",
    "    # Initialize the class with a list representation of the binary tree\n",
    "    def __init__(self, l):\n",
    "        self.tree = l\n",
    "        \n",
    "    # Get the left child of a node at a given index\n",
    "    def get_left_child(self, index):\n",
    "        # Calculate the index of the left child (using the formula 2n+1)\n",
    "        left_index = 2*index + 1\n",
    "        # Check if the index is out of range or the left child is None\n",
    "        if left_index >= len(self.tree) or self.tree[left_index] is None:\n",
    "            # Return None if the left child doesn't exist\n",
    "            return None\n",
    "        else:\n",
    "            # Otherwise, return the value of the left child\n",
    "            return self.tree[left_index]\n",
    "        \n",
    "    # Get the right child of a node at a given index\n",
    "    def get_right_child(self, index):\n",
    "        # Calculate the index of the right child (using the formula 2n+2)\n",
    "        right_index = 2*index + 2\n",
    "        # Check if the index is out of range or the right child is None\n",
    "        if right_index >= len(self.tree) or self.tree[right_index] is None:\n",
    "            # Return None if the right child doesn't exist\n",
    "            return None\n",
    "        else:\n",
    "            # Otherwise, return the value of the right child\n",
    "            return self.tree[right_index]\n",
    "        \n",
    "    # the root of the binary tree\n",
    "    def get_root(self):\n",
    "        return self.tree[0]\n",
    "\n",
    "# binary tree as a list \n",
    "binary_tree = BinaryTree([5, 12, 9, 7, None, 18, 33])\n",
    "\n",
    "# testing retreival of childnodes\n",
    "print(binary_tree.get_left_child(0))  # Output: 12\n",
    "print(binary_tree.get_right_child(0))  # Output: 9\n",
    "print(binary_tree.get_left_child(1))  # Output: 7\n",
    "print(binary_tree.get_right_child(2))  # Output: 33\n",
    "\n",
    "# output the root of the binary tree \n",
    "print(binary_tree.get_root())  "
   ]
  },
  {
   "cell_type": "code",
   "execution_count": null,
   "id": "0b6c3bc3",
   "metadata": {},
   "outputs": [],
   "source": []
  }
 ],
 "metadata": {
  "kernelspec": {
   "display_name": "Python 3 (ipykernel)",
   "language": "python",
   "name": "python3"
  },
  "language_info": {
   "codemirror_mode": {
    "name": "ipython",
    "version": 3
   },
   "file_extension": ".py",
   "mimetype": "text/x-python",
   "name": "python",
   "nbconvert_exporter": "python",
   "pygments_lexer": "ipython3",
   "version": "3.9.13"
  }
 },
 "nbformat": 4,
 "nbformat_minor": 5
}
