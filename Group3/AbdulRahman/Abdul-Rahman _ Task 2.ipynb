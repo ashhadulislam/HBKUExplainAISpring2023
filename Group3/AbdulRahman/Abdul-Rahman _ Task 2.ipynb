{
 "cells": [
  {
   "cell_type": "code",
   "execution_count": 1,
   "id": "f354de5c",
   "metadata": {},
   "outputs": [],
   "source": [
    "from sklearn import datasets\n",
    "from sklearn.model_selection import train_test_split\n",
    "import numpy as np\n",
    "from sklearn.metrics import accuracy_score\n",
    "\n",
    "from scipy.stats import entropy\n",
    "\n",
    "\n",
    "# import some data to play with\n",
    "iris = datasets.load_iris()\n",
    "X = iris.data\n",
    "y = iris.target\n",
    "\n",
    "X_train, X_test, y_train, y_test = train_test_split(\n",
    "     X, y, test_size=0.33, random_state=42)\n",
    "\n",
    "# def change_weights(X_train,y_train,X_test,y_test,weights):"
   ]
  },
  {
   "cell_type": "code",
   "execution_count": 2,
   "id": "df837c25",
   "metadata": {},
   "outputs": [
    {
     "name": "stdout",
     "output_type": "stream",
     "text": [
      "1.0549201679861442\n"
     ]
    }
   ],
   "source": [
    "pk = np.array([1/5, 2/5, 2/5])  # fair coin\n",
    "H = entropy(pk)\n",
    "print(H)\n"
   ]
  },
  {
   "cell_type": "code",
   "execution_count": 3,
   "id": "6af7deb7",
   "metadata": {},
   "outputs": [
    {
     "name": "stdout",
     "output_type": "stream",
     "text": [
      "1.0549201679861442\n"
     ]
    }
   ],
   "source": [
    "H=-0.2*(np.log(0.2))-0.4*(np.log(0.4))-0.4*(np.log(0.4))\n",
    "print(H)\n"
   ]
  },
  {
   "cell_type": "code",
   "execution_count": 4,
   "id": "bc9927bc",
   "metadata": {},
   "outputs": [
    {
     "name": "stdout",
     "output_type": "stream",
     "text": [
      "{0: 0.3333333333333333, 1: 0.3333333333333333, 2: 0.3333333333333333}\n"
     ]
    }
   ],
   "source": [
    "def calculate_probabilities(list_labels,uniq_labels):\n",
    "    '''\n",
    "    this function calculates the probabilities of each label in the list of labels\n",
    "    it is calculated by number of labels in class A/all labels\n",
    "    number of labels in class B/all labels\n",
    "    and so on\n",
    "    '''\n",
    "    \n",
    "    # put your code here\n",
    "    probabilities = {}\n",
    "    total = len(list_labels)\n",
    "    for label in uniq_labels:\n",
    "        count = list_labels.count(label)\n",
    "        probability = count / total\n",
    "        probabilities[label] = probability\n",
    "    return probabilities\n",
    "    \n",
    "\n",
    "\n",
    "\n",
    "    \n",
    "    \n",
    "    \n",
    "# test your function\n",
    "list_labels=[1,2,0,1,2,0]\n",
    "uniq_labels=[0,1,2]\n",
    "print(calculate_probabilities(list_labels,uniq_labels))\n",
    "# this should print somehting like 0.33,0.33,0.33\n"
   ]
  },
  {
   "cell_type": "code",
   "execution_count": 5,
   "id": "df19ea56",
   "metadata": {},
   "outputs": [
    {
     "name": "stdout",
     "output_type": "stream",
     "text": [
      "1.0549201679861442\n"
     ]
    }
   ],
   "source": [
    "import math\n",
    "def calc_entropy_from_probabilities(list_probas):\n",
    "    '''\n",
    "    list_probas is the list of probabiities\n",
    "    the formula for entropy is\n",
    "    sum(-proba*log(proba))\n",
    "    \n",
    "    '''\n",
    "    \n",
    "    # for now returning the same list\n",
    "    # put your code to calculate entropy\n",
    "    entropy_value = 0\n",
    "    for proba in list_probas:\n",
    "        if proba > 0:\n",
    "            entropy_value += -proba * np.log(proba)\n",
    "    return entropy_value\n",
    "    return list_proba\n",
    "\n",
    "# test your function\n",
    "list_probas=[1/5, 2/5, 2/5]\n",
    "print(calc_entropy_from_probabilities(list_probas))\n",
    "# above should print 1.054...\n"
   ]
  },
  {
   "cell_type": "code",
   "execution_count": 6,
   "id": "a0cd0d15",
   "metadata": {},
   "outputs": [
    {
     "name": "stdout",
     "output_type": "stream",
     "text": [
      "0.61\n"
     ]
    }
   ],
   "source": [
    "def information_gain(old_entropy,new_entropies,count_items):\n",
    "    '''\n",
    "    from the list of new entropies, calculate the overall new entropy\n",
    "    \n",
    "    formula is something like:\n",
    "    overall_new_entropy = entropy1*proportion1 + entropy2*proportion2+ entropy3*proportion3 ...\n",
    "    \n",
    "    igain=old_entropy-overall_new_entropy\n",
    "    '''\n",
    "    \n",
    "    overall_entropy = 0 \n",
    "    numberOfItems = sum (count_items) # will be 10 (4+6)\n",
    "    for i in range(len(new_entropies)):\n",
    "        ratios = count_items[i]/numberOfItems\n",
    "        overall_entropy += new_entropies[i] * ratios\n",
    "        \n",
    "    \n",
    "    \n",
    "    igain = old_entropy - overall_entropy    \n",
    "    return igain\n",
    "\n",
    "\n",
    "#test your function\n",
    "old_entropy=1\n",
    "new_entropies=[0,0.65]\n",
    "count_items=[4,6]\n",
    "print(information_gain(old_entropy,new_entropies,count_items))\n",
    "# above should print 0.61\n",
    "    "
   ]
  },
  {
   "cell_type": "code",
   "execution_count": 7,
   "id": "804813f7",
   "metadata": {},
   "outputs": [],
   "source": [
    "num_feats=X_train.shape[1]\n",
    "def initialize_weights(number_features):\n",
    "    '''\n",
    "    the first set of weights corresponding to the features\n",
    "    defaults to 1\n",
    "    '''\n",
    "    \n",
    "    weights=np.array([2 for i in range(number_features)])\n",
    "    return weights\n"
   ]
  },
  {
   "cell_type": "code",
   "execution_count": 8,
   "id": "e0a26c3f",
   "metadata": {},
   "outputs": [
    {
     "name": "stdout",
     "output_type": "stream",
     "text": [
      "[2 2 2 2]\n"
     ]
    }
   ],
   "source": [
    "print(initialize_weights(num_feats))\n"
   ]
  },
  {
   "cell_type": "code",
   "execution_count": 9,
   "id": "46c6666f",
   "metadata": {},
   "outputs": [
    {
     "data": {
      "text/plain": [
       "array([1, 0, 2, 1, 1, 0, 1, 2, 1, 1, 2, 0, 0, 0, 0, 1, 2, 1, 1, 2, 0, 2,\n",
       "       0, 2, 2, 2, 2, 2, 0, 0, 0, 0, 1, 0, 0, 2, 1, 0, 0, 0, 2, 1, 1, 0,\n",
       "       0, 1, 2, 2, 1, 2])"
      ]
     },
     "execution_count": 9,
     "metadata": {},
     "output_type": "execute_result"
    }
   ],
   "source": [
    "y_test\n"
   ]
  },
  {
   "cell_type": "markdown",
   "id": "b315a52a",
   "metadata": {},
   "source": [
    "# Task 2: Iteration\n",
    "\n"
   ]
  },
  {
   "cell_type": "code",
   "execution_count": 15,
   "id": "2119e6db",
   "metadata": {},
   "outputs": [
    {
     "name": "stdout",
     "output_type": "stream",
     "text": [
      "Initial proba= {0: 0.38, 1: 0.3, 2: 0.32}\n",
      "[0.38, 0.3, 0.32]\n",
      "Initial entropy =  1.0934927418975058\n"
     ]
    }
   ],
   "source": [
    " # initialization\n",
    "#Author: Abdul-Rahman Abdel-Fattah\n",
    "# step 1 calculate the probabilities of 0, 1 and 2 in the y_test array\n",
    "proba_init= calculate_probabilities(y_test.tolist(),np.unique(y_test).tolist())        #get the probabilities for y_test\n",
    "print(\"Initial proba=\",proba_init)\n",
    "\n",
    "# step 2 calculate the initial entropy of y_test, using the probability values\n",
    "# you might have to convert the dictionary to a list\n",
    "# get only the probability values\n",
    "list_probas= list(proba_init.values()) #get list from dictionary proba_init\n",
    "print(list_probas)\n",
    "entropy_init= calc_entropy_from_probabilities(list_probas)\n",
    "print(\"Initial entropy = \",entropy_init)"
   ]
  },
  {
   "cell_type": "code",
   "execution_count": 21,
   "id": "e8180adc",
   "metadata": {},
   "outputs": [
    {
     "name": "stdout",
     "output_type": "stream",
     "text": [
      "[2 2 2 2]\n",
      "[29.6 23.  39.  29.8 31.6 21.4 26.8 34.8 28.8 27.2 33.6 18.6 21.  19.2\n",
      " 21.4 31.8 35.  26.2 28.6 34.  19.4 31.6 20.8 33.8 40.2 34.4 33.6 36.4\n",
      " 19.  19.4 18.8 24.  31.2 20.  18.2 31.4 31.2 20.8 20.4 21.8 31.  31.\n",
      " 32.  22.  21.6 25.2 31.4 33.6 30.8 38.8]\n"
     ]
    }
   ],
   "source": [
    "#Author: Abdul-Rahman Abdel-Fattah\n",
    "wt_init=initialize_weights(num_feats)\n",
    "# right now the initialize_weights function only returns 2,2,2 \n",
    "print(wt_init)\n",
    "\n",
    "# multiply the weights with each feature and calculate the sum\n",
    "res= np.sum( wt_init * X_test , axis =1)# use np.sum() function\n",
    "print(res)"
   ]
  },
  {
   "cell_type": "code",
   "execution_count": 33,
   "id": "ca063085",
   "metadata": {},
   "outputs": [
    {
     "name": "stdout",
     "output_type": "stream",
     "text": [
      "18.252172271539482\n"
     ]
    },
    {
     "ename": "AttributeError",
     "evalue": "'NoneType' object has no attribute 'append'",
     "output_type": "error",
     "traceback": [
      "\u001b[0;31m---------------------------------------------------------------------------\u001b[0m",
      "\u001b[0;31mAttributeError\u001b[0m                            Traceback (most recent call last)",
      "\u001b[0;32m/var/folders/0q/14n26x893mj9929smn52_s840000gn/T/ipykernel_81328/3509598566.py\u001b[0m in \u001b[0;36m<module>\u001b[0;34m\u001b[0m\n\u001b[1;32m     10\u001b[0m \u001b[0;32mfor\u001b[0m \u001b[0mi\u001b[0m \u001b[0;32min\u001b[0m \u001b[0mrange\u001b[0m\u001b[0;34m(\u001b[0m\u001b[0mres\u001b[0m\u001b[0;34m.\u001b[0m\u001b[0mshape\u001b[0m\u001b[0;34m[\u001b[0m\u001b[0;36m0\u001b[0m\u001b[0;34m]\u001b[0m\u001b[0;34m)\u001b[0m\u001b[0;34m:\u001b[0m\u001b[0;34m\u001b[0m\u001b[0;34m\u001b[0m\u001b[0m\n\u001b[1;32m     11\u001b[0m     \u001b[0;32mif\u001b[0m \u001b[0mres\u001b[0m\u001b[0;34m[\u001b[0m\u001b[0mi\u001b[0m\u001b[0;34m]\u001b[0m\u001b[0;34m<\u001b[0m\u001b[0mthreshold\u001b[0m\u001b[0;34m:\u001b[0m\u001b[0;34m\u001b[0m\u001b[0;34m\u001b[0m\u001b[0m\n\u001b[0;32m---> 12\u001b[0;31m         \u001b[0mgroup1\u001b[0m\u001b[0;34m.\u001b[0m\u001b[0mappend\u001b[0m\u001b[0;34m(\u001b[0m\u001b[0my_test\u001b[0m\u001b[0;34m[\u001b[0m\u001b[0mi\u001b[0m\u001b[0;34m]\u001b[0m\u001b[0;34m)\u001b[0m\u001b[0;34m.\u001b[0m\u001b[0mappend\u001b[0m\u001b[0;34m(\u001b[0m\u001b[0my_test\u001b[0m\u001b[0;34m[\u001b[0m\u001b[0mi\u001b[0m\u001b[0;34m]\u001b[0m\u001b[0;34m)\u001b[0m\u001b[0;34m\u001b[0m\u001b[0;34m\u001b[0m\u001b[0m\n\u001b[0m\u001b[1;32m     13\u001b[0m     \u001b[0;32melse\u001b[0m\u001b[0;34m:\u001b[0m\u001b[0;34m\u001b[0m\u001b[0;34m\u001b[0m\u001b[0m\n\u001b[1;32m     14\u001b[0m         \u001b[0mgroup2\u001b[0m\u001b[0;34m.\u001b[0m\u001b[0mappend\u001b[0m\u001b[0;34m(\u001b[0m\u001b[0my_test\u001b[0m\u001b[0;34m[\u001b[0m\u001b[0mi\u001b[0m\u001b[0;34m]\u001b[0m\u001b[0;34m)\u001b[0m\u001b[0;34m\u001b[0m\u001b[0;34m\u001b[0m\u001b[0m\n",
      "\u001b[0;31mAttributeError\u001b[0m: 'NoneType' object has no attribute 'append'"
     ]
    }
   ],
   "source": [
    "#Author: Abdul-Rahman Abdel-Fattah\n",
    "# choose a threshold between res.minimum and res.maximum\n",
    "\n",
    "threshold=np.random.uniform(res.min(), res.max())\n",
    "# use np.random.uniform() function\n",
    "print(threshold)\n",
    "\n",
    "# make two groups\n",
    "group1=[]\n",
    "group2=[]\n",
    "\n",
    "##place the element in a group depending if greater/smaller than threshold\n",
    "for i in range(res.shape[0]):\n",
    "    if res[i]<threshold:\n",
    "        group1.append(y_test[i]).append(y_test[i])\n",
    "    else:\n",
    "        group2.append(y_test[i])"
   ]
  },
  {
   "cell_type": "code",
   "execution_count": 34,
   "id": "2340d1c3",
   "metadata": {},
   "outputs": [
    {
     "name": "stdout",
     "output_type": "stream",
     "text": [
      "IG= 0.27402471412044016\n"
     ]
    }
   ],
   "source": [
    "#Author: Abdul-Rahman Abdel-Fattah\n",
    "##generating the probabilities of group 1\n",
    "## calculate entropy of \n",
    "proba_gr1=calculate_probabilities(group1,np.unique(group1).tolist())\n",
    "proba_gr1=list(proba_gr1.values()) \n",
    "entropy_group1=calc_entropy_from_probabilities(proba_gr1)\n",
    "count_group1=len(proba_gr1)\n",
    "\n",
    "proba_gr2=calculate_probabilities(group2,np.unique(group2).tolist())\n",
    "proba_gr2=list(proba_gr2.values()) \n",
    "entropy_group2=calc_entropy_from_probabilities(proba_gr2)\n",
    "count_group2=len(proba_gr2)\n",
    "\n",
    "new_entropies=[entropy_group1,entropy_group2]\n",
    "count_items=[count_group1,count_group2]\n",
    "ig=information_gain(entropy_init,new_entropies,count_items)\n",
    "print(\"Info Gain =\",ig)"
   ]
  },
  {
   "cell_type": "code",
   "execution_count": null,
   "id": "18c1731d",
   "metadata": {},
   "outputs": [],
   "source": []
  },
  {
   "cell_type": "code",
   "execution_count": null,
   "id": "a2331562",
   "metadata": {},
   "outputs": [],
   "source": []
  }
 ],
 "metadata": {
  "kernelspec": {
   "display_name": "Python 3 (ipykernel)",
   "language": "python",
   "name": "python3"
  },
  "language_info": {
   "codemirror_mode": {
    "name": "ipython",
    "version": 3
   },
   "file_extension": ".py",
   "mimetype": "text/x-python",
   "name": "python",
   "nbconvert_exporter": "python",
   "pygments_lexer": "ipython3",
   "version": "3.9.13"
  }
 },
 "nbformat": 4,
 "nbformat_minor": 5
}
