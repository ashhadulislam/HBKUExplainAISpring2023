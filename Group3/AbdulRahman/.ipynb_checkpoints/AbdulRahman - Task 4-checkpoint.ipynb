{
 "cells": [
  {
   "cell_type": "code",
   "execution_count": 1,
   "id": "f354de5c",
   "metadata": {},
   "outputs": [],
   "source": [
    "from sklearn import datasets\n",
    "from sklearn.model_selection import train_test_split\n",
    "import numpy as np\n",
    "from sklearn.metrics import accuracy_score\n",
    "\n",
    "from scipy.stats import entropy\n",
    "\n",
    "\n",
    "# import some data to play with\n",
    "iris = datasets.load_iris()\n",
    "X = iris.data\n",
    "y = iris.target\n",
    "\n",
    "X_train, X_test, y_train, y_test = train_test_split(\n",
    "     X, y, test_size=0.33, random_state=42)\n",
    "\n",
    "# def change_weights(X_train,y_train,X_test,y_test,weights):"
   ]
  },
  {
   "cell_type": "code",
   "execution_count": 2,
   "id": "df837c25",
   "metadata": {},
   "outputs": [
    {
     "name": "stdout",
     "output_type": "stream",
     "text": [
      "1.0549201679861442\n"
     ]
    }
   ],
   "source": [
    "pk = np.array([1/5, 2/5, 2/5])  # fair coin\n",
    "H = entropy(pk)\n",
    "print(H)\n"
   ]
  },
  {
   "cell_type": "code",
   "execution_count": 3,
   "id": "6af7deb7",
   "metadata": {},
   "outputs": [
    {
     "name": "stdout",
     "output_type": "stream",
     "text": [
      "1.0549201679861442\n"
     ]
    }
   ],
   "source": [
    "H=-0.2*(np.log(0.2))-0.4*(np.log(0.4))-0.4*(np.log(0.4))\n",
    "print(H)\n"
   ]
  },
  {
   "cell_type": "code",
   "execution_count": 4,
   "id": "bc9927bc",
   "metadata": {},
   "outputs": [
    {
     "name": "stdout",
     "output_type": "stream",
     "text": [
      "{0: 0.3333333333333333, 1: 0.3333333333333333, 2: 0.3333333333333333}\n"
     ]
    }
   ],
   "source": [
    "def calculate_probabilities(list_labels,uniq_labels):\n",
    "    '''\n",
    "    this function calculates the probabilities of each label in the list of labels\n",
    "    it is calculated by number of labels in class A/all labels\n",
    "    number of labels in class B/all labels\n",
    "    and so on\n",
    "    '''\n",
    "    \n",
    "    # put your code here\n",
    "    probabilities = {}\n",
    "    total = len(list_labels)\n",
    "    for label in uniq_labels:\n",
    "        count = list_labels.count(label)\n",
    "        probability = count / total\n",
    "        probabilities[label] = probability\n",
    "    return probabilities\n",
    "    \n",
    "\n",
    "\n",
    "\n",
    "    \n",
    "    \n",
    "    \n",
    "# test your function\n",
    "list_labels=[1,2,0,1,2,0]\n",
    "uniq_labels=[0,1,2]\n",
    "print(calculate_probabilities(list_labels,uniq_labels))\n",
    "# this should print somehting like 0.33,0.33,0.33\n"
   ]
  },
  {
   "cell_type": "code",
   "execution_count": 5,
   "id": "df19ea56",
   "metadata": {},
   "outputs": [
    {
     "name": "stdout",
     "output_type": "stream",
     "text": [
      "1.0549201679861442\n"
     ]
    }
   ],
   "source": [
    "import math\n",
    "def calc_entropy_from_probabilities(list_probas):\n",
    "    '''\n",
    "    list_probas is the list of probabiities\n",
    "    the formula for entropy is\n",
    "    sum(-proba*log(proba))\n",
    "    \n",
    "    '''\n",
    "    \n",
    "    # for now returning the same list\n",
    "    # put your code to calculate entropy\n",
    "    entropy_value = 0\n",
    "    for proba in list_probas:\n",
    "        if proba > 0:\n",
    "            entropy_value += -proba * np.log(proba)\n",
    "    return entropy_value\n",
    "    return list_proba\n",
    "\n",
    "# test your function\n",
    "list_probas=[1/5, 2/5, 2/5]\n",
    "print(calc_entropy_from_probabilities(list_probas))\n",
    "# above should print 1.054...\n"
   ]
  },
  {
   "cell_type": "code",
   "execution_count": 6,
   "id": "a0cd0d15",
   "metadata": {},
   "outputs": [
    {
     "name": "stdout",
     "output_type": "stream",
     "text": [
      "0.61\n"
     ]
    }
   ],
   "source": [
    "def information_gain(old_entropy,new_entropies,count_items):\n",
    "    '''\n",
    "    from the list of new entropies, calculate the overall new entropy\n",
    "    \n",
    "    formula is something like:\n",
    "    overall_new_entropy = entropy1*proportion1 + entropy2*proportion2+ entropy3*proportion3 ...\n",
    "    \n",
    "    igain=old_entropy-overall_new_entropy\n",
    "    '''\n",
    "    \n",
    "    overall_entropy = 0 \n",
    "    numberOfItems = sum (count_items) # will be 10 (4+6)\n",
    "    for i in range(len(new_entropies)):\n",
    "        ratios = count_items[i]/numberOfItems\n",
    "        overall_entropy += new_entropies[i] * ratios\n",
    "        \n",
    "    \n",
    "    \n",
    "    igain = old_entropy - overall_entropy    \n",
    "    return igain\n",
    "\n",
    "\n",
    "#test your function\n",
    "old_entropy=1\n",
    "new_entropies=[0,0.65]\n",
    "count_items=[4,6]\n",
    "print(information_gain(old_entropy,new_entropies,count_items))\n",
    "# above should print 0.61\n",
    "    "
   ]
  },
  {
   "cell_type": "code",
   "execution_count": 7,
   "id": "804813f7",
   "metadata": {},
   "outputs": [],
   "source": [
    "num_feats=X_train.shape[1]\n",
    "def initialize_weights(number_features):\n",
    "    '''\n",
    "    the first set of weights corresponding to the features\n",
    "    defaults to 1\n",
    "    '''\n",
    "    \n",
    "    weights=np.array([2 for i in range(number_features)])\n",
    "    return weights\n"
   ]
  },
  {
   "cell_type": "code",
   "execution_count": 8,
   "id": "e0a26c3f",
   "metadata": {},
   "outputs": [
    {
     "name": "stdout",
     "output_type": "stream",
     "text": [
      "[2 2 2 2]\n"
     ]
    }
   ],
   "source": [
    "print(initialize_weights(num_feats))\n"
   ]
  },
  {
   "cell_type": "code",
   "execution_count": 9,
   "id": "46c6666f",
   "metadata": {},
   "outputs": [
    {
     "data": {
      "text/plain": [
       "array([1, 0, 2, 1, 1, 0, 1, 2, 1, 1, 2, 0, 0, 0, 0, 1, 2, 1, 1, 2, 0, 2,\n",
       "       0, 2, 2, 2, 2, 2, 0, 0, 0, 0, 1, 0, 0, 2, 1, 0, 0, 0, 2, 1, 1, 0,\n",
       "       0, 1, 2, 2, 1, 2])"
      ]
     },
     "execution_count": 9,
     "metadata": {},
     "output_type": "execute_result"
    }
   ],
   "source": [
    "y_test\n"
   ]
  },
  {
   "cell_type": "markdown",
   "id": "b315a52a",
   "metadata": {},
   "source": [
    "# Task 2: Iteration\n",
    "\n"
   ]
  },
  {
   "cell_type": "code",
   "execution_count": 10,
   "id": "2119e6db",
   "metadata": {},
   "outputs": [
    {
     "name": "stdout",
     "output_type": "stream",
     "text": [
      "Initial proba= {0: 0.38, 1: 0.3, 2: 0.32}\n",
      "[0.38, 0.3, 0.32]\n",
      "Initial entropy =  1.0934927418975058\n"
     ]
    }
   ],
   "source": [
    " # initialization\n",
    "#Author: Abdul-Rahman Abdel-Fattah\n",
    "# step 1 calculate the probabilities of 0, 1 and 2 in the y_test array\n",
    "proba_init= calculate_probabilities(y_test.tolist(),np.unique(y_test).tolist())        #get the probabilities for y_test\n",
    "print(\"Initial proba=\",proba_init)\n",
    "\n",
    "# step 2 calculate the initial entropy of y_test, using the probability values\n",
    "# you might have to convert the dictionary to a list\n",
    "# get only the probability values\n",
    "list_probas= list(proba_init.values()) #get list from dictionary proba_init\n",
    "print(list_probas)\n",
    "entropy_init= calc_entropy_from_probabilities(list_probas)\n",
    "print(\"Initial entropy = \",entropy_init)"
   ]
  },
  {
   "cell_type": "code",
   "execution_count": 11,
   "id": "e8180adc",
   "metadata": {},
   "outputs": [
    {
     "name": "stdout",
     "output_type": "stream",
     "text": [
      "[2 2 2 2]\n",
      "[29.6 23.  39.  29.8 31.6 21.4 26.8 34.8 28.8 27.2 33.6 18.6 21.  19.2\n",
      " 21.4 31.8 35.  26.2 28.6 34.  19.4 31.6 20.8 33.8 40.2 34.4 33.6 36.4\n",
      " 19.  19.4 18.8 24.  31.2 20.  18.2 31.4 31.2 20.8 20.4 21.8 31.  31.\n",
      " 32.  22.  21.6 25.2 31.4 33.6 30.8 38.8]\n"
     ]
    }
   ],
   "source": [
    "#Author: Abdul-Rahman Abdel-Fattah\n",
    "wt_init=initialize_weights(num_feats)\n",
    "# right now the initialize_weights function only returns 2,2,2 \n",
    "print(wt_init)\n",
    "\n",
    "# multiply the weights with each feature and calculate the sum\n",
    "res= np.sum( wt_init * X_test , axis =1)# use np.sum() function\n",
    "print(res)"
   ]
  },
  {
   "cell_type": "code",
   "execution_count": 12,
   "id": "ca063085",
   "metadata": {},
   "outputs": [
    {
     "name": "stdout",
     "output_type": "stream",
     "text": [
      "31.245148991427868\n"
     ]
    },
    {
     "ename": "AttributeError",
     "evalue": "'NoneType' object has no attribute 'append'",
     "output_type": "error",
     "traceback": [
      "\u001b[0;31m---------------------------------------------------------------------------\u001b[0m",
      "\u001b[0;31mAttributeError\u001b[0m                            Traceback (most recent call last)",
      "Input \u001b[0;32mIn [12]\u001b[0m, in \u001b[0;36m<module>\u001b[0;34m\u001b[0m\n\u001b[1;32m     13\u001b[0m \u001b[38;5;28;01mfor\u001b[39;00m i \u001b[38;5;129;01min\u001b[39;00m \u001b[38;5;28mrange\u001b[39m(res\u001b[38;5;241m.\u001b[39mshape[\u001b[38;5;241m0\u001b[39m]):\n\u001b[1;32m     14\u001b[0m     \u001b[38;5;28;01mif\u001b[39;00m res[i]\u001b[38;5;241m<\u001b[39mthreshold:\n\u001b[0;32m---> 15\u001b[0m         \u001b[43mgroup1\u001b[49m\u001b[38;5;241;43m.\u001b[39;49m\u001b[43mappend\u001b[49m\u001b[43m(\u001b[49m\u001b[43my_test\u001b[49m\u001b[43m[\u001b[49m\u001b[43mi\u001b[49m\u001b[43m]\u001b[49m\u001b[43m)\u001b[49m\u001b[38;5;241;43m.\u001b[39;49m\u001b[43mappend\u001b[49m(y_test[i])\n\u001b[1;32m     16\u001b[0m     \u001b[38;5;28;01melse\u001b[39;00m:\n\u001b[1;32m     17\u001b[0m         group2\u001b[38;5;241m.\u001b[39mappend(y_test[i])\n",
      "\u001b[0;31mAttributeError\u001b[0m: 'NoneType' object has no attribute 'append'"
     ]
    }
   ],
   "source": [
    "#Author: Abdul-Rahman Abdel-Fattah\n",
    "# choose a threshold between res.minimum and res.maximum\n",
    "\n",
    "threshold=np.random.uniform(res.min(), res.max())\n",
    "# use np.random.uniform() function\n",
    "print(threshold)\n",
    "\n",
    "# make two groups\n",
    "group1=[]\n",
    "group2=[]\n",
    "\n",
    "##place the element in a group depending if greater/smaller than threshold\n",
    "for i in range(res.shape[0]):\n",
    "    if res[i]<threshold:\n",
    "        group1.append(y_test[i]).append(y_test[i])\n",
    "    else:\n",
    "        group2.append(y_test[i])"
   ]
  },
  {
   "cell_type": "code",
   "execution_count": null,
   "id": "2340d1c3",
   "metadata": {},
   "outputs": [],
   "source": [
    "#Author: Abdul-Rahman Abdel-Fattah\n",
    "##generating the probabilities of group 1\n",
    "## calculate entropy of \n",
    "proba_gr1=calculate_probabilities(group1,np.unique(group1).tolist())\n",
    "proba_gr1=list(proba_gr1.values()) \n",
    "entropy_group1=calc_entropy_from_probabilities(proba_gr1)\n",
    "count_group1=len(proba_gr1)\n",
    "\n",
    "proba_gr2=calculate_probabilities(group2,np.unique(group2).tolist())\n",
    "proba_gr2=list(proba_gr2.values()) \n",
    "entropy_group2=calc_entropy_from_probabilities(proba_gr2)\n",
    "count_group2=len(proba_gr2)\n",
    "\n",
    "new_entropies=[entropy_group1,entropy_group2]\n",
    "count_items=[count_group1,count_group2]\n",
    "overall_new_entropy=get_entropy_from_groups(new_entropies,count_items)\n",
    "return overall_new_entropy"
   ]
  },
  {
   "cell_type": "markdown",
   "id": "bd2ef314",
   "metadata": {},
   "source": [
    "**Task 4** \n"
   ]
  },
  {
   "cell_type": "code",
   "execution_count": null,
   "id": "18c1731d",
   "metadata": {},
   "outputs": [],
   "source": [
    "def objective_fn(param1,param2,X,y):\n",
    "    '''\n",
    "    param1 and param2 are the parameters that we want to optimize\n",
    "    say param1 is the weight vector and  param2 is the threshold\n",
    "    '''\n",
    "    # multiply the weights with each feature and calculate the sum\n",
    "    res=np.sum(X * param1, axis=1)  \n",
    "#     print(res)\n",
    "    #calculate entropy: hint: use the get_entropy function\n",
    "    entropy= get_entropy(param2, res, y)\n",
    "    # call the get_entropy function with the correct parameters.\n",
    "    # you only need to pass the threshold, res vector and the y\n",
    "    return entropy\n",
    "def objective_fn_vector(params1,params2,X,y):\n",
    "    '''\n",
    "    params1 is an array of weight vectors\n",
    "    params2 is an array of thresholds\n",
    "    '''\n",
    "    results=[]\n",
    "    for i in range(params1.shape[0]):\n",
    "        param1 = params1[i]\n",
    "        param2 = params2[i]\n",
    "        # call the objective_fn above to get the entropy\n",
    "        res=objective_fn(param1,param2,X,y)\n",
    "#         print(param2,res)\n",
    "        results.append(res)\n",
    "    \n",
    "    return np.array(results)\n",
    "    "
   ]
  },
  {
   "cell_type": "code",
   "execution_count": null,
   "id": "a2331562",
   "metadata": {},
   "outputs": [],
   "source": [
    "n_vectors = 100\n",
    "n_features = 4\n",
    "params1 = [initialize_weights(n_features) for i in range(n_vectors)]\n",
    "\n",
    "params2= np.random.uniform(low=-1, high=1, size=n_vectors)\n",
    "# a vector of shape 100\n",
    "# use the np.random.uniform() function\n",
    "\n",
    "# we have a list of 100 weight vectors (params1) and 100 thresholds (params2)\n",
    "# convert them to array\n",
    "params1=np.array(params1)\n",
    "params2=np.array(params2)\n",
    "\n",
    "print(\"Shape of params 1 (weights)\",params1.shape)\n",
    "print(\"Shape of params 2 (thresholds)\",params2.shape)"
   ]
  },
  {
   "cell_type": "code",
   "execution_count": null,
   "id": "0676a770",
   "metadata": {},
   "outputs": [],
   "source": [
    "z = objective_fn_vector(params1, params2, X_train, y_train)\n",
    "# Find the global minimum that is using the minimum if params1 and params2\n",
    "min_idx = np.argmin(z)\n",
    "\n",
    "# Get the corresponding values of params1 and params2\n",
    "param1_min = params1[min_idx]\n",
    "param2_min = params2[min_idx]\n",
    "\n",
    "print(\"param1_min:\", param1_min)\n",
    "print(\"param2_min:\", param2_min)\n"
   ]
  },
  {
   "cell_type": "code",
   "execution_count": null,
   "id": "25006bbe",
   "metadata": {},
   "outputs": [],
   "source": [
    "# Hyper-parameter of the algorithm\n",
    "c1 = c2 = 0.1\n",
    "w1 = np.array([np.random.uniform() for i in range(X_train.shape[1])])\n",
    "w2 = 0.8 \n",
    "# Create particles\n",
    "n_particles = 20\n",
    "np.random.seed(100)\n",
    "params1 = np.array([initialize_weights(X_train.shape[1]) for i in range(n_particles)])\n",
    "\n",
    "# Initialize threshold values\n",
    "params2 = np.random.uniform(size=n_particles)\n",
    "\n",
    "params1=np.array(params1)\n",
    "params2=np.array(params2)\n",
    "\n",
    "print(\"params1 shape is \",params1.shape,\"params2 shape is \",params2.shape)\n"
   ]
  },
  {
   "cell_type": "code",
   "execution_count": null,
   "id": "7459f00a",
   "metadata": {},
   "outputs": [],
   "source": [
    "V_param1 = np.array([initialize_weights(X_train.shape[1]) for i in range(n_particles)])\n",
    "\n",
    "#define velocity of each threshold of every particle\n",
    "V_param2 = np.random.uniform(size=n_particles)\n",
    "\n",
    "# Initialize objective values\n",
    "pbest = (params1,params2)\n",
    "pbest_obj = objective_fn_vector(params1, params2, X_train, y_train)\n",
    "gbest=(params1[pbest_obj.argmin()],params2[pbest_obj.argmin()])\n",
    "gbest_obj = pbest_obj.min()\n",
    "\n",
    "print(\"pbest obj value for 20 particles are as follows\",pbest_obj)\n",
    "print(\"gbest obj value among all 20 particles is as follows\",gbest_obj)\n",
    "# note that gbest_obj should be the minimim of all pbest_obj"
   ]
  },
  {
   "cell_type": "code",
   "execution_count": null,
   "id": "bb4e46a0",
   "metadata": {},
   "outputs": [],
   "source": [
    "def update():\n",
    "    \"Function to do one iteration of particle swarm optimization\"\n",
    "    global V_param1,V_param2, params1,params2, pbest, pbest_obj, gbest, gbest_obj\n",
    "    # these have been already initialized in the previous cells\n",
    "    \n",
    "    # Update params\n",
    "    r11,r12, r2 = np.random.rand(3)\n",
    "    V_param1=w1*V_param1+c1*r11*(pbest[0] - params1)+ c2*r2*(gbest[0]-params1)\n",
    "    V_param2=w2*V_param2+c1*r12*(pbest[1] - params2)+ c2*r2*(gbest[1]-params2)    \n",
    "#     V = w * V + c1*r11*(pbest - params1) + c2*r2*(gbest.reshape(-1,1)-X)\n",
    "    params1 = params1 + V_param1\n",
    "    params2 = params2 + V_param2\n",
    "    \n",
    "    obj = objective_fn_vector(params1, params2, X_train, y_train)\n",
    "    for i in range(pbest[0].shape[0]):\n",
    "        if pbest_obj[i]>=obj[i]:\n",
    "            # update the three lines below\n",
    "            pbest[0][i] = params1[i] # update pbest[0][i] with value of params1[i]\n",
    "            pbest[1][i] = params2[i] # update pbest[1][i] with value of params2[i]\n",
    "            pbest_obj[i] = obj[i] \n",
    "\n",
    "            \n",
    "    gbest=(params1[pbest_obj.argmin()],params2[pbest_obj.argmin()]) # update gbest to contain the best from params1 and params 2\n",
    "    gbest_obj = pbest_obj.min() # update gbest to get the minimum of pbest_obj\n",
    "    "
   ]
  },
  {
   "cell_type": "code",
   "execution_count": null,
   "id": "2ec83adb",
   "metadata": {},
   "outputs": [],
   "source": [
    "for i in range(100):\n",
    "    update()\n",
    "print(\"PSO found best solution at f({})={}\".format(gbest, gbest_obj))\n",
    "print(\"Global optimal at f({})={}\".format([param1_min,param2_min], objective_fn(param1_min, param2_min, X_train, y_train)))"
   ]
  }
 ],
 "metadata": {
  "kernelspec": {
   "display_name": "Python 3 (ipykernel)",
   "language": "python",
   "name": "python3"
  },
  "language_info": {
   "codemirror_mode": {
    "name": "ipython",
    "version": 3
   },
   "file_extension": ".py",
   "mimetype": "text/x-python",
   "name": "python",
   "nbconvert_exporter": "python",
   "pygments_lexer": "ipython3",
   "version": "3.9.5"
  }
 },
 "nbformat": 4,
 "nbformat_minor": 5
}
