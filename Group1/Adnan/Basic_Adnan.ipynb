{
  "cells": [
    {
      "cell_type": "code",
      "execution_count": 2,
      "id": "fc10afce",
      "metadata": {
        "id": "fc10afce"
      },
      "outputs": [],
      "source": [
        "from sklearn import datasets\n",
        "from sklearn.model_selection import train_test_split\n",
        "import numpy as np\n",
        "from sklearn.metrics import accuracy_score\n",
        "\n",
        "from scipy.stats import entropy\n",
        "\n",
        "\n",
        "# import some data to play with\n",
        "iris = datasets.load_iris()\n",
        "X = iris.data\n",
        "y = iris.target\n",
        "\n",
        "y_train, yX_train, X_test,_test = train_test_split(\n",
        "     X, y, test_size=0.33, random_state=42)\n",
        "\n",
        "# def change_weights(X_train,y_train,X_test,y_test,weights):"
      ]
    },
    {
      "cell_type": "code",
      "execution_count": 3,
      "id": "07622faf",
      "metadata": {
        "id": "07622faf"
      },
      "outputs": [],
      "source": [
        "# Check if the entropy functions work"
      ]
    },
    {
      "cell_type": "code",
      "execution_count": null,
      "id": "cedc5b2a",
      "metadata": {
        "colab": {
          "base_uri": "https://localhost:8080/"
        },
        "id": "cedc5b2a",
        "outputId": "46e67eba-18de-4197-d6db-c4ca524cb7b3"
      },
      "outputs": [
        {
          "output_type": "stream",
          "name": "stdout",
          "text": [
            "1.0549201679861442\n"
          ]
        }
      ],
      "source": [
        "pk = np.array([1/5, 2/5, 2/5])  # fair coin\n",
        "H = entropy(pk)\n",
        "print(H)"
      ]
    },
    {
      "cell_type": "code",
      "execution_count": null,
      "id": "a7b39465",
      "metadata": {
        "colab": {
          "base_uri": "https://localhost:8080/"
        },
        "id": "a7b39465",
        "outputId": "a905a173-ac95-4ba3-d5d2-8d504ae21e52"
      },
      "outputs": [
        {
          "output_type": "stream",
          "name": "stdout",
          "text": [
            "1.0549201679861442\n"
          ]
        }
      ],
      "source": [
        "H=-0.2*(np.log(0.2))-0.4*(np.log(0.4))-0.4*(np.log(0.4))\n",
        "print(H)"
      ]
    },
    {
      "cell_type": "code",
      "execution_count": 4,
      "id": "37f37313",
      "metadata": {
        "id": "37f37313",
        "colab": {
          "base_uri": "https://localhost:8080/"
        },
        "outputId": "d31b18c9-9bd7-45ac-f6ee-a454b46a800a"
      },
      "outputs": [
        {
          "output_type": "stream",
          "name": "stdout",
          "text": [
            "[0.3333333333333333, 0.3333333333333333, 0.3333333333333333]\n"
          ]
        }
      ],
      "source": [
        "def calculate_probabilities(list_labels,uniq_labels):\n",
        "    '''\n",
        "    this function calculates the probabilities of each label in the list of labels\n",
        "    it is calculated by number of labels in class A/all labels\n",
        "    number of labels in class B/all labels\n",
        "    and so on\n",
        "    '''\n",
        "    probabilities = []\n",
        "    total_labels = len(list_labels)\n",
        "\n",
        "    for element in uniq_labels:\n",
        "      element_count = list_labels.count(element)\n",
        "      proba = (element_count/total_labels)\n",
        "      probabilities.append(proba)\n",
        "    \n",
        "    #print(\"probabilities = \", probabilities)\n",
        "\n",
        "\n",
        "    \n",
        "    # put your code here\n",
        "    return probabilities\n",
        "    \n",
        "    \n",
        "    \n",
        "# test your function\n",
        "list_labels=[1,2,0,1,2,0]\n",
        "uniq_labels=[0,1,2]\n",
        "print(calculate_probabilities(list_labels,uniq_labels))\n",
        "# this should print somehting like 0.33,0.33,0.33\n"
      ]
    },
    {
      "cell_type": "code",
      "execution_count": 5,
      "id": "bad5dd0a",
      "metadata": {
        "id": "bad5dd0a",
        "colab": {
          "base_uri": "https://localhost:8080/"
        },
        "outputId": "94e0534d-0dc1-4ac8-eb77-c8b363b68d0b"
      },
      "outputs": [
        {
          "output_type": "stream",
          "name": "stdout",
          "text": [
            "1.0549201679861442\n"
          ]
        }
      ],
      "source": [
        "def calc_entropy_from_probabilities(list_probas):\n",
        "    '''\n",
        "    list_probas is the list of probabiities\n",
        "    the formula for entropy is\n",
        "    sum(-proba*log(proba))\n",
        "    \n",
        "    '''\n",
        "    # Code by Adnan\n",
        "\n",
        "    entropy = 0\n",
        "\n",
        "    for element in list_probas:\n",
        "      entropy = entropy - (element*(np.log(element)))\n",
        "    \n",
        "    \n",
        "\n",
        "    # for now returning the same list\n",
        "    # put your code to calculate entropy\n",
        "    return entropy\n",
        "\n",
        "# test your function\n",
        "list_probas=[1/5, 2/5, 2/5]\n",
        "print(calc_entropy_from_probabilities(list_probas))\n",
        "# above should print 1.054..."
      ]
    },
    {
      "cell_type": "code",
      "execution_count": 7,
      "id": "169e9035",
      "metadata": {
        "id": "169e9035",
        "colab": {
          "base_uri": "https://localhost:8080/"
        },
        "outputId": "585cce9a-1ff0-4523-a65d-b425f16f1ad3"
      },
      "outputs": [
        {
          "output_type": "stream",
          "name": "stdout",
          "text": [
            "0.61\n"
          ]
        }
      ],
      "source": [
        "def information_gain(old_entropy,new_entropies,count_items):\n",
        "    '''\n",
        "    from the list of new entropies, calculate the overall new entropy\n",
        "    \n",
        "    formula is something like:\n",
        "    overall_new_entropy = entropy1*proportion1 + entropy2*proportion2+ entropy3*proportion3 ...\n",
        "    \n",
        "    igain=old_entropy-overall_new_entropy\n",
        "    '''\n",
        "    # Code by Adnan\n",
        "    \n",
        "    overall_new_entropy = 0\n",
        "\n",
        "    for index , new_entropy in enumerate(new_entropies):\n",
        "      overall_new_entropy += new_entropy * (count_items[index]/(sum(count_items)))\n",
        "\n",
        "    igain = old_entropy - overall_new_entropy \n",
        "    \n",
        "    return igain\n",
        "\n",
        "\n",
        "#test your function\n",
        "old_entropy=1\n",
        "new_entropies=[0,0.65]\n",
        "count_items=[4,6]\n",
        "print(information_gain(old_entropy,new_entropies,count_items))\n",
        "# above should print 0.61\n",
        "    \n",
        "    \n",
        "    "
      ]
    },
    {
      "cell_type": "markdown",
      "id": "f5c445d7",
      "metadata": {
        "id": "f5c445d7"
      },
      "source": []
    },
    {
      "cell_type": "code",
      "execution_count": null,
      "id": "a27daf2a",
      "metadata": {
        "id": "a27daf2a"
      },
      "outputs": [],
      "source": []
    },
    {
      "cell_type": "code",
      "execution_count": null,
      "id": "527f2d5a",
      "metadata": {
        "id": "527f2d5a"
      },
      "outputs": [],
      "source": []
    },
    {
      "cell_type": "code",
      "execution_count": null,
      "id": "66a4e0c9",
      "metadata": {
        "id": "66a4e0c9"
      },
      "outputs": [],
      "source": [
        "# X"
      ]
    },
    {
      "cell_type": "code",
      "execution_count": null,
      "id": "d3120181",
      "metadata": {
        "id": "d3120181"
      },
      "outputs": [],
      "source": [
        "# iris"
      ]
    },
    {
      "cell_type": "code",
      "execution_count": null,
      "id": "6b7e9b98",
      "metadata": {
        "id": "6b7e9b98"
      },
      "outputs": [],
      "source": [
        "num_feats=X_train.shape[1]\n",
        "def initialize_weights(number_features):\n",
        "    '''\n",
        "    the first set of weights corresponding to the features\n",
        "    defaults to 1\n",
        "    '''\n",
        "    \n",
        "    weights=np.array([2 for i in range(number_features)])\n",
        "    return weights\n",
        "    "
      ]
    },
    {
      "cell_type": "code",
      "execution_count": null,
      "id": "6792d233",
      "metadata": {
        "id": "6792d233",
        "outputId": "4bfef6c6-1d1d-4aa4-bc6a-c1c11a6316ca"
      },
      "outputs": [
        {
          "name": "stdout",
          "output_type": "stream",
          "text": [
            "[2 2 2 2]\n"
          ]
        }
      ],
      "source": [
        "print(initialize_weights(num_feats))"
      ]
    },
    {
      "cell_type": "code",
      "execution_count": null,
      "id": "78c0cb82",
      "metadata": {
        "id": "78c0cb82",
        "outputId": "047ec18a-7e72-45d0-ebe8-ece700fe2cae"
      },
      "outputs": [
        {
          "data": {
            "text/plain": [
              "array([1, 0, 2, 1, 1, 0, 1, 2, 1, 1, 2, 0, 0, 0, 0, 1, 2, 1, 1, 2, 0, 2,\n",
              "       0, 2, 2, 2, 2, 2, 0, 0, 0, 0, 1, 0, 0, 2, 1, 0, 0, 0, 2, 1, 1, 0,\n",
              "       0, 1, 2, 2, 1, 2])"
            ]
          },
          "execution_count": 6,
          "metadata": {},
          "output_type": "execute_result"
        }
      ],
      "source": [
        "y_test"
      ]
    },
    {
      "cell_type": "code",
      "execution_count": null,
      "id": "ce9f4b89",
      "metadata": {
        "id": "ce9f4b89"
      },
      "outputs": [],
      "source": [
        "def change_weights(weights):\n",
        "    new_weights=[]\n",
        "    for i in range(weights[-1].shape[0]):\n",
        "        new_weights.append(np.random.uniform(0,1))\n",
        "    return np.array(new_weights)"
      ]
    },
    {
      "cell_type": "code",
      "execution_count": null,
      "id": "12921475",
      "metadata": {
        "id": "12921475"
      },
      "outputs": [],
      "source": [
        "def apply_and_measure_accuracy(X,y,weights):    \n",
        "    res=np.sum(X*weights[-1],axis=1)\n",
        "    res = np.tanh(res)\n",
        "    res[res>0.5]=1\n",
        "    res[res<=0.5]=0\n",
        "    acc=accuracy_score(y, res)\n",
        "    return acc\n",
        "    \n",
        "def get_train_test_accuracy(X_train,y_train,X_test,y_test,weights):\n",
        "    train_acc=apply_and_measure_accuracy(X_train,y_train,weights)\n",
        "    test_acc=apply_and_measure_accuracy(X_test,y_test,weights)\n",
        "    return train_acc,test_acc\n",
        "    "
      ]
    },
    {
      "cell_type": "code",
      "execution_count": null,
      "id": "139b2ea3",
      "metadata": {
        "id": "139b2ea3",
        "outputId": "5f8ec7ab-10a7-4a79-c618-a25be7ebf22d"
      },
      "outputs": [
        {
          "name": "stdout",
          "output_type": "stream",
          "text": [
            "(50,)\n",
            "(100,)\n",
            "Initial test acc [0.3]\n"
          ]
        }
      ],
      "source": [
        "wt_init=[initialize_weights(num_feats)]\n",
        "res=np.sum(X_test*wt_init[-1],axis=1)\n",
        "res = np.tanh(res)\n",
        "res[res>0.5]=1\n",
        "res[res<=0.5]=0\n",
        "print(res.shape)\n",
        "acc=accuracy_score(y_test, res)\n",
        "test_accuracies=[acc]\n",
        "\n",
        "res=np.sum(X_train*wt_init[-1],axis=1)\n",
        "res = np.tanh(res)\n",
        "res[res>0.5]=1\n",
        "res[res<=0.5]=0\n",
        "print(res.shape)\n",
        "acc=accuracy_score(y_train, res)\n",
        "\n",
        "train_accuracies=[acc]\n",
        "print(\"Initial test acc\",test_accuracies)\n",
        "\n",
        "\n",
        "\n",
        "\n",
        "def train_weights(X_train,y_train,X_test,y_test,weights,train_accuracies,test_accuracies):\n",
        "    print(\"Trial number \",len(weights))\n",
        "    \n",
        "    train_acc,test_acc=get_train_test_accuracy(X_train,y_train,X_test,y_test,weights)\n",
        "    \n",
        "    \n",
        "    \n",
        "    # store the accuracy in this list of accuracies\n",
        "    train_accuracies.append(train_acc)\n",
        "    test_accuracies.append(test_acc)\n",
        "    print(\"train\",train_acc,\"test\",test_acc)\n",
        "    print(test_accuracies[-1],test_accuracies[-2])\n",
        "    \n",
        "    # exit condition\n",
        "    if test_accuracies[-1]<test_accuracies[-2]:\n",
        "        print(\"returning\")\n",
        "        return weights,train_accuracies,test_accuracies\n",
        "    \n",
        "    # change the weights according to the accuracy\n",
        "    new_weights=change_weights(weights)\n",
        "    weights.append(new_weights)\n",
        "    return train_weights(X_train,y_train,X_test,y_test,weights,train_accuracies,test_accuracies)\n",
        "    \n"
      ]
    },
    {
      "cell_type": "code",
      "execution_count": null,
      "id": "e9f32ff2",
      "metadata": {
        "id": "e9f32ff2"
      },
      "outputs": [],
      "source": []
    },
    {
      "cell_type": "code",
      "execution_count": null,
      "id": "0264aa6b",
      "metadata": {
        "id": "0264aa6b"
      },
      "outputs": [],
      "source": [
        "weights,train_accuracies,test_accuracies=train_weights(X_train,y_train,X_test,y_test,wt_init,train_accuracies,test_accuracies)\n"
      ]
    },
    {
      "cell_type": "code",
      "execution_count": null,
      "id": "f66e4778",
      "metadata": {
        "id": "f66e4778",
        "outputId": "385f1f52-56bb-471b-d40a-ca535b989672"
      },
      "outputs": [
        {
          "data": {
            "text/plain": [
              "[0.3, 0.42, 0.3]"
            ]
          },
          "execution_count": 16,
          "metadata": {},
          "output_type": "execute_result"
        }
      ],
      "source": [
        "\n"
      ]
    },
    {
      "cell_type": "code",
      "execution_count": null,
      "id": "b82aabf8",
      "metadata": {
        "id": "b82aabf8",
        "outputId": "6c658e1b-2986-4363-e428-e480bc906bcf"
      },
      "outputs": [
        {
          "name": "stdout",
          "output_type": "stream",
          "text": [
            "0.42\n",
            "[1. 1. 1. 1. 1. 1. 1. 1. 1. 1. 1. 0. 0. 0. 1. 1. 1. 1. 1. 1. 1. 1. 1. 1.\n",
            " 1. 1. 1. 1. 1. 1. 0. 1. 1. 1. 0. 1. 1. 1. 1. 0. 1. 1. 1. 1. 1. 1. 1. 1.\n",
            " 1. 1.]\n"
          ]
        }
      ],
      "source": [
        "### Test the weights in the pre-final iteration\n",
        "res=np.sum(X_test*weights[-2],axis=1)\n",
        "res = np.tanh(res)\n",
        "res[res>0.5]=1\n",
        "res[res<=0.5]=0\n",
        "acc=accuracy_score(y_test, res)\n",
        "print(acc)\n",
        "print(res)"
      ]
    },
    {
      "cell_type": "code",
      "execution_count": null,
      "id": "731b42be",
      "metadata": {
        "id": "731b42be"
      },
      "outputs": [],
      "source": []
    }
  ],
  "metadata": {
    "kernelspec": {
      "display_name": "py37kern",
      "language": "python",
      "name": "py37kern"
    },
    "language_info": {
      "codemirror_mode": {
        "name": "ipython",
        "version": 3
      },
      "file_extension": ".py",
      "mimetype": "text/x-python",
      "name": "python",
      "nbconvert_exporter": "python",
      "pygments_lexer": "ipython3",
      "version": "3.7.0"
    },
    "colab": {
      "provenance": []
    }
  },
  "nbformat": 4,
  "nbformat_minor": 5
}