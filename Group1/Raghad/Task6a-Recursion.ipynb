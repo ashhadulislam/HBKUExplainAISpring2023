{
 "cells": [
  {
   "cell_type": "markdown",
   "id": "ec111c35",
   "metadata": {},
   "source": [
    "#### 1a Recursion function to calculate fibonacci number\n",
    "\n",
    "Fibonacci sequence is the series where each number is the sum of its previous 2 numbers. Following is an example\n",
    "\n",
    "1, 1, 2, 3, 5, 8, 13, 21, 34, ....\n",
    "\n",
    "The first two values are 1 and 1 by default"
   ]
  },
  {
   "cell_type": "code",
   "execution_count": 4,
   "id": "740fc8cc",
   "metadata": {},
   "outputs": [],
   "source": [
    "# Write a recursive function to generate the nth number in the fibonacci sequence (starting from 0)\n",
    "# example, fib(1) should return 1\n",
    "# fib(3) should return 3\n",
    "# fib (7) should return 21 ...\n"
   ]
  },
  {
   "cell_type": "code",
   "execution_count": 5,
   "id": "8a611811",
   "metadata": {},
   "outputs": [],
   "source": [
    "def fib(n):\n",
    "    if n == 0 or n == 1:\n",
    "        return 1\n",
    "    # recursion condition\n",
    "    return fib(n-1) + fib(n-2)\n"
   ]
  },
  {
   "cell_type": "code",
   "execution_count": 6,
   "id": "4176d929",
   "metadata": {},
   "outputs": [
    {
     "data": {
      "text/plain": [
       "21"
      ]
     },
     "execution_count": 6,
     "metadata": {},
     "output_type": "execute_result"
    }
   ],
   "source": [
    "fib(7)"
   ]
  },
  {
   "cell_type": "markdown",
   "id": "da9c29a7",
   "metadata": {},
   "source": [
    "#### 1b Non recursive function to calculate fibonacci number"
   ]
  },
  {
   "cell_type": "code",
   "execution_count": 7,
   "id": "e97f8199",
   "metadata": {},
   "outputs": [],
   "source": [
    "# Write a non-recursive function to generate the nth number in the fibonacci sequence (starting from 0)\n",
    "# example, nr_fib(1) should return 1\n",
    "# nr_fib(3) should return 3\n",
    "# nr_fib (7) should return 21 ...\n"
   ]
  },
  {
   "cell_type": "code",
   "execution_count": 12,
   "id": "b98eb318",
   "metadata": {},
   "outputs": [],
   "source": [
    "def nr_fib(n):\n",
    "    if n <= 0:\n",
    "        return 0\n",
    "    elif n == 1:\n",
    "        return 1\n",
    "    else:\n",
    "        arr_n=[0 for i in range(n)] # create an array of n numbers having values 0\n",
    "    \n",
    "        # set the first two values of the list\n",
    "        arr_n[0]=1\n",
    "        arr_n[1]=2\n",
    "        for i in range(2,n):\n",
    "            arr_n[i]=arr_n[i-1]+arr_n[i-2]\n",
    "        return arr_n[n-1]\n"
   ]
  },
  {
   "cell_type": "code",
   "execution_count": 13,
   "id": "6449ba44",
   "metadata": {},
   "outputs": [
    {
     "data": {
      "text/plain": [
       "21"
      ]
     },
     "execution_count": 13,
     "metadata": {},
     "output_type": "execute_result"
    }
   ],
   "source": [
    "nr_fib(7)"
   ]
  },
  {
   "cell_type": "markdown",
   "id": "cf16d05d",
   "metadata": {},
   "source": [
    "### Mention 3 points of difference between the above two functions"
   ]
  },
  {
   "cell_type": "markdown",
   "id": "bf195ecd",
   "metadata": {},
   "source": [
    "1. Approach: fib(n) is a recursive function, while nr_fib(n) is an iterative function. \n",
    "2. Base cases: fib(n) defines its base cases as n == 0 or n == 1, while nr_fib(n) defines its base cases as n <= 0 or n == 1. The two functions return different values for the input n = 0: fib returns 1, while nr_fib returns 0.\n",
    "3. Complexity: fib(n) has exponential time complexity, because each call to the function generates two additional calls until it reaches the base case. nr_fib(n), on the other hand, has linear time complexity, because it computes each value in the sequence only once. Therefore, nr_fib is more efficient for large values of n."
   ]
  },
  {
   "cell_type": "markdown",
   "id": "72dd82f0",
   "metadata": {},
   "source": [
    "#### 2a Recursion function to calculate Factorial of a number\n",
    "\n",
    "Factorial of a number is defined as the product of all numbers till 1\n",
    "\n",
    "fact(4)=4\\*3\\*2\\*1=24\n",
    "\n",
    "fact(7)=7\\*6\\*5\\*4\\*3\\*2\\*1=5040"
   ]
  },
  {
   "cell_type": "code",
   "execution_count": 14,
   "id": "17dd2755",
   "metadata": {},
   "outputs": [],
   "source": [
    "def fact(n):\n",
    "    # exit criteria\n",
    "    if n==1 or n==0:\n",
    "        return 1\n",
    "    # recursion\n",
    "    return n * fact(n-1)"
   ]
  },
  {
   "cell_type": "code",
   "execution_count": 15,
   "id": "5203393f",
   "metadata": {},
   "outputs": [
    {
     "data": {
      "text/plain": [
       "24"
      ]
     },
     "execution_count": 15,
     "metadata": {},
     "output_type": "execute_result"
    }
   ],
   "source": [
    "fact(4)"
   ]
  },
  {
   "cell_type": "markdown",
   "id": "982985ac",
   "metadata": {},
   "source": [
    "#### 2b Non recursive function to calculate factorial"
   ]
  },
  {
   "cell_type": "code",
   "execution_count": 16,
   "id": "1b9c706c",
   "metadata": {},
   "outputs": [],
   "source": [
    "def nr_fact(n):\n",
    "    arr_n=[1 for i in range(n+1)]\n",
    "    \n",
    "    for i in range(2,n+1):\n",
    "        arr_n[i]=i*arr_n[i-1]\n",
    "    return arr_n[n]\n"
   ]
  },
  {
   "cell_type": "code",
   "execution_count": 17,
   "id": "e9205a74",
   "metadata": {},
   "outputs": [
    {
     "data": {
      "text/plain": [
       "5040"
      ]
     },
     "execution_count": 17,
     "metadata": {},
     "output_type": "execute_result"
    }
   ],
   "source": [
    "nr_fact(7)"
   ]
  },
  {
   "cell_type": "markdown",
   "id": "8d46494d",
   "metadata": {},
   "source": [
    "#### 3 Representing binary tree as a list\n",
    "\n",
    "It is necessary to have an idea about how to represent a binary tree as a list\n",
    "\n",
    "         5\n",
    "        / \\\n",
    "       12  9\n",
    "      /   / \\\n",
    "     7   18 33\n",
    "     \n",
    "     \n",
    "l=[5, 12, 9,  7, None,  18, 33]\n",
    "\n",
    "For any node at index n of the list\n",
    "Its children are present at index 2\\*n+1 and 2\\*n+2  (Starting from index 0)"
   ]
  },
  {
   "cell_type": "code",
   "execution_count": 22,
   "id": "1a7665ab",
   "metadata": {},
   "outputs": [
    {
     "name": "stdout",
     "output_type": "stream",
     "text": [
      "Left child of 5: 12\n",
      "Right child of 5: 9\n",
      "Left child of 12: 7\n",
      "Right child of 12: None\n",
      "Left child of 9: 18\n",
      "Right child of 9: 33\n",
      "Parent of 7: 12\n",
      "Parent of 12: 5\n",
      "Parent of 18: 9\n",
      "Parent of 9: 5\n"
     ]
    }
   ],
   "source": [
    "tree = [5, 12, 9, 7, None, 18, 33]\n",
    "\n",
    "def get_left_child(index):\n",
    "    left_child_index = 2*index + 1\n",
    "    if left_child_index >= len(tree) or tree[left_child_index] is None:\n",
    "        return None\n",
    "    return tree[left_child_index]\n",
    "\n",
    "def get_right_child(index):\n",
    "    right_child_index = 2*index + 2\n",
    "    if right_child_index >= len(tree) or tree[right_child_index] is None:\n",
    "        return None\n",
    "    return tree[right_child_index]\n",
    "\n",
    "def get_parent(index):\n",
    "    if index == 0:\n",
    "        return None\n",
    "    parent_index = (index - 1) // 2\n",
    "    return tree[parent_index]\n",
    "\n",
    "print(\"Left child of 5:\", get_left_child(0))\n",
    "print(\"Right child of 5:\", get_right_child(0))\n",
    "print(\"Left child of 12:\", get_left_child(1))\n",
    "print(\"Right child of 12:\", get_right_child(1))\n",
    "print(\"Left child of 9:\", get_left_child(2))\n",
    "print(\"Right child of 9:\", get_right_child(2))\n",
    "print(\"Parent of 7:\", get_parent(3))\n",
    "print(\"Parent of 12:\", get_parent(2))\n",
    "print(\"Parent of 18:\", get_parent(5))\n",
    "print(\"Parent of 9:\", get_parent(2))\n"
   ]
  },
  {
   "cell_type": "code",
   "execution_count": null,
   "id": "456ac3dc",
   "metadata": {},
   "outputs": [],
   "source": []
  }
 ],
 "metadata": {
  "kernelspec": {
   "display_name": "Python 3 (ipykernel)",
   "language": "python",
   "name": "python3"
  },
  "language_info": {
   "codemirror_mode": {
    "name": "ipython",
    "version": 3
   },
   "file_extension": ".py",
   "mimetype": "text/x-python",
   "name": "python",
   "nbconvert_exporter": "python",
   "pygments_lexer": "ipython3",
   "version": "3.9.13"
  }
 },
 "nbformat": 4,
 "nbformat_minor": 5
}
