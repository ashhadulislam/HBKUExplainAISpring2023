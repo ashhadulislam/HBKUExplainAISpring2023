{
 "cells": [
  {
   "cell_type": "code",
   "execution_count": 1,
   "id": "abdd3b74",
   "metadata": {},
   "outputs": [],
   "source": [
    "\n",
    "from sklearn import datasets\n",
    "from sklearn.model_selection import train_test_split\n",
    "import numpy as np\n",
    "from sklearn.metrics import accuracy_score\n",
    "\n",
    "from scipy.stats import entropy\n",
    "\n",
    "\n",
    "\n",
    "import raghadlib as lib\n"
   ]
  },
  {
   "cell_type": "code",
   "execution_count": 2,
   "id": "034fd981",
   "metadata": {},
   "outputs": [],
   "source": [
    "# import some data to play with\n",
    "iris = datasets.load_iris()\n",
    "X = iris.data\n",
    "y = iris.target\n",
    "\n",
    "X_train, X_test, y_train, y_test = train_test_split(\n",
    "     X, y, test_size=0.33, random_state=42)\n",
    "\n",
    "\n",
    "# normalize the data\n",
    "from sklearn.preprocessing import MinMaxScaler\n",
    "scaler = MinMaxScaler()\n",
    "X_train=scaler.fit_transform(X_train)\n",
    "X_test=scaler.transform(X_test)"
   ]
  },
  {
   "cell_type": "code",
   "execution_count": 3,
   "id": "8ee78655",
   "metadata": {},
   "outputs": [
    {
     "name": "stdout",
     "output_type": "stream",
     "text": [
      "1.0549201679861442\n"
     ]
    }
   ],
   "source": [
    "\n",
    "pk = np.array([1/5, 2/5, 2/5])  # fair coin\n",
    "H = entropy(pk)\n",
    "print(H)\n",
    "\n"
   ]
  },
  {
   "cell_type": "code",
   "execution_count": 4,
   "id": "dd27fd31",
   "metadata": {},
   "outputs": [
    {
     "name": "stdout",
     "output_type": "stream",
     "text": [
      "{0: 0.3333333333333333, 1: 0.3333333333333333, 2: 0.3333333333333333}\n"
     ]
    }
   ],
   "source": [
    "\n",
    "    \n",
    "# test your function\n",
    "list_labels=[1,2,0,1,2,0]\n",
    "uniq_labels=[0,1,2]\n",
    "print(lib.calculate_probabilities(list_labels,uniq_labels))\n",
    "# this should print somehting like 0.33,0.33,0.33\n",
    "\n"
   ]
  },
  {
   "cell_type": "code",
   "execution_count": 5,
   "id": "2060f44e",
   "metadata": {},
   "outputs": [
    {
     "name": "stdout",
     "output_type": "stream",
     "text": [
      "1.0549201679861442\n"
     ]
    }
   ],
   "source": [
    "\n",
    "# test your function\n",
    "list_probas=[1/5, 2/5, 2/5]\n",
    "print(lib.calc_entropy_from_probabilities(list_probas))\n",
    "# above should print 1.054...\n",
    "\n"
   ]
  },
  {
   "cell_type": "code",
   "execution_count": 6,
   "id": "7de3d018",
   "metadata": {},
   "outputs": [
    {
     "name": "stdout",
     "output_type": "stream",
     "text": [
      "0.61\n"
     ]
    }
   ],
   "source": [
    "#test your function\n",
    "old_entropy=1\n",
    "new_entropies=[0,0.65]\n",
    "count_items=[4,6]\n",
    "print(lib.information_gain(old_entropy,new_entropies,count_items))\n",
    "# above should print 0.61\n",
    "    \n"
   ]
  },
  {
   "cell_type": "code",
   "execution_count": 7,
   "id": "2044e0c4",
   "metadata": {},
   "outputs": [
    {
     "name": "stdout",
     "output_type": "stream",
     "text": [
      "[2 2 2 2]\n"
     ]
    }
   ],
   "source": [
    "\n",
    "num_feats=X_train.shape[1]\n",
    "print(lib.initialize_weights(num_feats))\n",
    "\n"
   ]
  },
  {
   "cell_type": "code",
   "execution_count": 8,
   "id": "e50704ce",
   "metadata": {},
   "outputs": [
    {
     "name": "stdout",
     "output_type": "stream",
     "text": [
      "Shape of params 1 (weights) (100, 4)\n",
      "Shape of params 2 (thresholds) (100,)\n"
     ]
    }
   ],
   "source": [
    "\n",
    "### Below we just randomly assign 100 particles and see if we can find the global minimum.\n",
    "### THis is just to check\n",
    "\n",
    "params1=[lib.initialize_weights(X_train.shape[1]) for i in range(100)]# a vector of shape 100,4\n",
    "# call the initialize_weights function above\n",
    "\n",
    "params2=[np.random.uniform() for i in range(100)]# a vector of shape 100\n",
    "# use the np.random.uniform() function\n",
    "\n",
    "# we have a list of 100 weight vectors (params1) and 100 thresholds (params2)\n",
    "# convert them to array\n",
    "params1=np.array(params1)\n",
    "params2=np.array(params2)\n",
    "\n",
    "print(\"Shape of params 1 (weights)\",params1.shape)\n",
    "print(\"Shape of params 2 (thresholds)\",params2.shape)\n",
    "\n"
   ]
  },
  {
   "cell_type": "code",
   "execution_count": 9,
   "id": "bce94489",
   "metadata": {},
   "outputs": [
    {
     "name": "stdout",
     "output_type": "stream",
     "text": [
      "param1_min [2 2 2 2] param2_min 0.9319571287092955\n"
     ]
    }
   ],
   "source": [
    "\n",
    "z = lib.objective_fn_vector(params1, params2, X_train, y_train)\n",
    "# Find the global minimum\n",
    "param1_min = params1[z.argmin()] # use z.argmin()\n",
    "param2_min = params2[z.argmin()] # use z.argmin()\n",
    "\n",
    "print(\"param1_min\",param1_min,\"param2_min\",param2_min)\n"
   ]
  },
  {
   "cell_type": "code",
   "execution_count": 10,
   "id": "e89b8aa7",
   "metadata": {},
   "outputs": [
    {
     "name": "stdout",
     "output_type": "stream",
     "text": [
      "params1 shape is  (20, 4) params2 shape is  (20,)\n"
     ]
    }
   ],
   "source": [
    "\n",
    "### Setting up the particles and other parameters now\n",
    "# Hyper-parameter of the algorithm\n",
    "c1 = c2 = 0.1\n",
    "w1 = np.array([np.random.uniform() for i in range(X_train.shape[1])])\n",
    "w2 = 0.8 \n",
    "# Create particles\n",
    "n_particles = 20\n",
    "np.random.seed(100)\n",
    "params1=[lib.initialize_weights(X_train.shape[1]) for i in range(n_particles)] # a vector of shape n_particles,4\n",
    "# call the initialize_weights function above\n",
    "\n",
    "params2=[np.random.uniform() for i in range(n_particles)]# a vector of shape n_particles\n",
    "# use the np.random.uniform() function\n",
    "\n",
    "params1=np.array(params1)\n",
    "params2=np.array(params2)\n",
    "\n",
    "print(\"params1 shape is \",params1.shape,\"params2 shape is \",params2.shape)\n"
   ]
  },
  {
   "cell_type": "code",
   "execution_count": 11,
   "id": "4ff7d69f",
   "metadata": {},
   "outputs": [
    {
     "name": "stdout",
     "output_type": "stream",
     "text": [
      "pbest obj value for 20 particles are as follows [1.09729975 1.09729975 1.09729975 0.82232957 1.09729975 1.09729975\n",
      " 0.82232957 0.82232957 1.09729975 1.09729975 0.82232957 1.09729975\n",
      " 1.09729975 1.09729975 1.09729975 0.82149332 0.82232957 1.09729975\n",
      " 0.82232957 1.09729975]\n",
      "gbest obj value among all 20 particles is as follows 0.8214933202884899\n"
     ]
    }
   ],
   "source": [
    "\n",
    "# define velocity of each weight of every particle\n",
    "V_param1 = [lib.initialize_weights(X_train.shape[1])*0.1 for i in range(n_particles)] # shape is same as params1\n",
    "# once again can use initialize_weights function\n",
    "\n",
    "#define velocity of each threshold of every particle\n",
    "V_param2 = np.array([np.random.uniform()*0.1 for i in range(n_particles)])# shape is same as params2\n",
    "# once again use np.random.uniform() function\n",
    "\n",
    "# Initialize objective values\n",
    "pbest = (params1,params2)\n",
    "pbest_obj = lib.objective_fn_vector(params1, params2, X_train, y_train)\n",
    "gbest=(params1[pbest_obj.argmin()],params2[pbest_obj.argmin()])\n",
    "gbest_obj = pbest_obj.min()\n",
    "\n",
    "print(\"pbest obj value for 20 particles are as follows\",pbest_obj)\n",
    "print(\"gbest obj value among all 20 particles is as follows\",gbest_obj)\n",
    "# note that gbest_obj should be the minimim of all pbest_obj\n"
   ]
  },
  {
   "cell_type": "code",
   "execution_count": 12,
   "id": "769724d5",
   "metadata": {},
   "outputs": [],
   "source": [
    "\n",
    "def update():\n",
    "    \"Function to do one iteration of particle swarm optimization\"\n",
    "    global V_param1,V_param2, params1,params2, pbest, pbest_obj, gbest, gbest_obj\n",
    "    # these have been already initialized in the previous cells\n",
    "    \n",
    "    # Update params\n",
    "    r11,r12, r2 = np.random.rand(3)\n",
    "    V_param1=w1*V_param1+c1*r11*(pbest[0] - params1)+ c2*r2*(gbest[0]-params1)\n",
    "    V_param2=w2*V_param2+c1*r12*(pbest[1] - params2)+ c2*r2*(gbest[1]-params2)    \n",
    "#     V = w * V + c1*r11*(pbest - params1) + c2*r2*(gbest.reshape(-1,1)-X)\n",
    "    params1 = params1 + V_param1\n",
    "    params2 = params2 + V_param2\n",
    "    \n",
    "    obj = lib.objective_fn_vector(params1, params2, X_train, y_train)\n",
    "    for i in range(pbest[0].shape[0]):\n",
    "        if pbest_obj[i]>=obj[i]:\n",
    "            \n",
    "            pbest[0][i]=params1[i] # update pbest[0][i] with value of params1[i]\n",
    "            pbest[1][i]=params2[i] # update pbest[1][i] \n",
    "            pbest_obj[i]=obj[i]    # also update pbest_obj[i]\n",
    "\n",
    "            \n",
    "    gbest=(params1[pbest_obj.argmin()],params2[pbest_obj.argmin()]) # update gbest to contain the best from params1 and params 2\n",
    "    gbest_obj = pbest_obj.min() # update gbest to get the minimum of pbest_obj\n"
   ]
  },
  {
   "cell_type": "code",
   "execution_count": 13,
   "id": "fff20feb",
   "metadata": {},
   "outputs": [
    {
     "name": "stdout",
     "output_type": "stream",
     "text": [
      "PSO found best solution at f((array([ 2.00002176e+00, -7.09358920e-05,  2.88383055e-04,  2.00003907e+00]), 1.3789660702171247))=0.5237323047939855\n",
      "Global optimal at f([array([2, 2, 2, 2]), 0.9319571287092955])=0.8214933202884899\n"
     ]
    }
   ],
   "source": [
    " \n",
    "for i in range(100):\n",
    "    update()\n",
    "print(\"PSO found best solution at f({})={}\".format(gbest, gbest_obj))\n",
    "print(\"Global optimal at f({})={}\".format([param1_min,param2_min], lib.objective_fn(param1_min, param2_min, X_train, y_train)))\n"
   ]
  },
  {
   "cell_type": "code",
   "execution_count": 14,
   "id": "28da400b",
   "metadata": {},
   "outputs": [
    {
     "name": "stdout",
     "output_type": "stream",
     "text": [
      "Shapr of training data is  (381, 30)\n"
     ]
    }
   ],
   "source": [
    "\n",
    "# import some data to play with\n",
    "#load the breast cancer dataset \n",
    "from sklearn.datasets import load_breast_cancer\n",
    "\n",
    "# Load the breast cancer dataset\n",
    "bcan = load_breast_cancer()\n",
    "\n",
    "X = bcan.data\n",
    "y = bcan.target\n",
    "\n",
    "X_train, X_test, y_train, y_test = train_test_split(\n",
    "     X, y, test_size=0.33, random_state=42)\n",
    "\n",
    "\n",
    "# normalize the data\n",
    "from sklearn.preprocessing import MinMaxScaler\n",
    "scaler = MinMaxScaler()\n",
    "X_train=scaler.fit_transform(X_train)\n",
    "X_test=scaler.transform(X_test)\n",
    "print(\"Shapr of training data is \",X_train.shape)\n"
   ]
  },
  {
   "cell_type": "code",
   "execution_count": 15,
   "id": "35638ff4",
   "metadata": {},
   "outputs": [
    {
     "name": "stdout",
     "output_type": "stream",
     "text": [
      "Shape of params 1 (weights) (100, 30)\n",
      "Shape of params 2 (thresholds) (100,)\n"
     ]
    }
   ],
   "source": [
    "\n",
    "# initialize the params1 and params2\n",
    "\n",
    "\n",
    "\n",
    "# call the initialize_weights function above\n",
    "params1 = [lib.initialize_weights(X_train.shape[1]) for i in range(100)]\n",
    "\n",
    "# use the np.random.uniform() function\n",
    "\n",
    "params2 = [np.random.uniform() for i in range(100)]\n",
    "\n",
    "# we have a list of 100 weight vectors (params1) and 100 thresholds (params2)\n",
    "# convert them to array\n",
    "params1=np.array(params1)\n",
    "params2=np.array(params2)\n",
    "\n",
    "print(\"Shape of params 1 (weights)\",params1.shape)\n",
    "print(\"Shape of params 2 (thresholds)\",params2.shape)\n",
    "\n"
   ]
  },
  {
   "cell_type": "code",
   "execution_count": 16,
   "id": "a08cd320",
   "metadata": {},
   "outputs": [
    {
     "name": "stdout",
     "output_type": "stream",
     "text": [
      "param1_min [2 2 2 2 2 2 2 2 2 2 2 2 2 2 2 2 2 2 2 2 2 2 2 2 2 2 2 2 2 2] param2_min 0.459553670010184\n"
     ]
    }
   ],
   "source": [
    "\n",
    "z = lib.objective_fn_vector(params1, params2, X_train, y_train)\n",
    "# Find the global minimum\n",
    "param1_min = params1[z.argmin()] # use z.argmin()\n",
    "param2_min = params2[z.argmin()] # use z.argmin()\n",
    "\n",
    "print(\"param1_min\",param1_min,\"param2_min\",param2_min)\n"
   ]
  },
  {
   "cell_type": "code",
   "execution_count": 17,
   "id": "76dabd79",
   "metadata": {},
   "outputs": [
    {
     "name": "stdout",
     "output_type": "stream",
     "text": [
      "params1 shape is  (100, 30) params2 shape is  (100,)\n"
     ]
    }
   ],
   "source": [
    "\n",
    "# Hyper-parameter of the algorithm\n",
    "c1 = c2 = 0.1\n",
    "w1 = np.array([np.random.uniform() for i in range(X_train.shape[1])])\n",
    "w2 = 0.8 \n",
    "# Create particles\n",
    "n_particles = 20\n",
    "np.random.seed(100)\n",
    "\n",
    "params1=[lib.initialize_weights(X_train.shape[1]) for i in range(100)]# a vector of shape 100,4\n",
    "# call the initialize_weights function above\n",
    "\n",
    "\n",
    "\n",
    "params2=[np.random.uniform() for i in range(100)]# a vector of shape n_particles\n",
    "# use the np.random.uniform() function\n",
    "\n",
    "params1=np.array(params1)\n",
    "params2=np.array(params2)\n",
    "\n",
    "print(\"params1 shape is \",params1.shape,\"params2 shape is \",params2.shape)\n"
   ]
  },
  {
   "cell_type": "code",
   "execution_count": 18,
   "id": "fcc0e296",
   "metadata": {},
   "outputs": [
    {
     "name": "stdout",
     "output_type": "stream",
     "text": [
      "pbest obj value for 20 particles are as follows [0.6643461 0.6643461 0.6643461 0.6643461 0.6643461 0.6643461 0.6643461\n",
      " 0.6643461 0.6643461 0.6643461 0.6643461 0.6643461 0.6643461 0.6643461\n",
      " 0.6643461 0.6643461 0.6643461 0.6643461 0.6643461 0.6643461 0.6643461\n",
      " 0.6643461 0.6643461 0.6643461 0.6643461 0.6643461 0.6643461 0.6643461\n",
      " 0.6643461 0.6643461 0.6643461 0.6643461 0.6643461 0.6643461 0.6643461\n",
      " 0.6643461 0.6643461 0.6643461 0.6643461 0.6643461 0.6643461 0.6643461\n",
      " 0.6643461 0.6643461 0.6643461 0.6643461 0.6643461 0.6643461 0.6643461\n",
      " 0.6643461 0.6643461 0.6643461 0.6643461 0.6643461 0.6643461 0.6643461\n",
      " 0.6643461 0.6643461 0.6643461 0.6643461 0.6643461 0.6643461 0.6643461\n",
      " 0.6643461 0.6643461 0.6643461 0.6643461 0.6643461 0.6643461 0.6643461\n",
      " 0.6643461 0.6643461 0.6643461 0.6643461 0.6643461 0.6643461 0.6643461\n",
      " 0.6643461 0.6643461 0.6643461 0.6643461 0.6643461 0.6643461 0.6643461\n",
      " 0.6643461 0.6643461 0.6643461 0.6643461 0.6643461 0.6643461 0.6643461\n",
      " 0.6643461 0.6643461 0.6643461 0.6643461 0.6643461 0.6643461 0.6643461\n",
      " 0.6643461 0.6643461]\n",
      "gbest obj value among all 20 particles is as follows 0.6643460978641622\n"
     ]
    }
   ],
   "source": [
    "\n",
    "# define velocity of each weight of every particle\n",
    "\n",
    "V_param1 = [lib.initialize_weights(X_train.shape[1])*0.1 for i in range(n_particles)] # shape is same as params1\n",
    "# once again can use initialize_weights function\n",
    "\n",
    "#define velocity of each threshold of every particle\n",
    "V_param2 = np.array([np.random.uniform()*0.1 for i in range(n_particles)])# shape is same as params2\n",
    "# once again use np.random.uniform() function\n",
    "\n",
    "\n",
    "# Initialize objective values\n",
    "pbest = (params1,params2)\n",
    "pbest_obj = lib.objective_fn_vector(params1, params2, X_train, y_train)\n",
    "gbest=(params1[pbest_obj.argmin()],params2[pbest_obj.argmin()])\n",
    "gbest_obj = pbest_obj.min()\n",
    "\n",
    "\n",
    "print(\"pbest obj value for 20 particles are as follows\",pbest_obj)\n",
    "print(\"gbest obj value among all 20 particles is as follows\",gbest_obj)\n",
    "# note that gbest_obj should be the minimim of all pbest_obj\n"
   ]
  },
  {
   "cell_type": "code",
   "execution_count": 19,
   "id": "338e56a7",
   "metadata": {},
   "outputs": [],
   "source": [
    "\n",
    "def update():\n",
    "    \"Function to do one iteration of particle swarm optimization\"\n",
    "    global V_param1,V_param2, params1,params2, pbest, pbest_obj, gbest, gbest_obj\n",
    "    # these have been already initialized in the previous cells\n",
    "    \n",
    "    # Update params\n",
    "    r11,r12, r2 = np.random.rand(3)\n",
    "    V_param1=w1*V_param1+c1*r11*(pbest[0] - params1)+ c2*r2*(gbest[0]-params1)\n",
    "    V_param2=w2*V_param2+c1*r12*(pbest[1] - params2)+ c2*r2*(gbest[1]-params2)    \n",
    "#     V = w * V + c1*r11*(pbest - params1) + c2*r2*(gbest.reshape(-1,1)-X)\n",
    "    params1 = params1 + V_param1\n",
    "    params2 = params2 + V_param2\n",
    "    \n",
    "    obj = lib.objective_fn_vector(params1, params2, X_train, y_train)\n",
    "    for i in range(pbest[0].shape[0]):\n",
    "        if pbest_obj[i]>=obj[i]:\n",
    "            \n",
    "            pbest[0][i]=params1[i] # update pbest[0][i] with value of params1[i]\n",
    "            pbest[1][i]=params2[i] # update pbest[1][i] \n",
    "            pbest_obj[i]=obj[i]    # also update pbest_obj[i]\n",
    "\n",
    "            \n",
    "    gbest=(params1[pbest_obj.argmin()],params2[pbest_obj.argmin()]) # update gbest to contain the best from params1 and params 2\n",
    "    gbest_obj = pbest_obj.min() # update gbest to get the minimum of pbest_obj\n",
    " "
   ]
  },
  {
   "cell_type": "code",
   "execution_count": 20,
   "id": "b3f1bf4c",
   "metadata": {},
   "outputs": [
    {
     "ename": "ValueError",
     "evalue": "operands could not be broadcast together with shapes (20,30) (100,30) ",
     "output_type": "error",
     "traceback": [
      "\u001b[0;31m---------------------------------------------------------------------------\u001b[0m",
      "\u001b[0;31mValueError\u001b[0m                                Traceback (most recent call last)",
      "Input \u001b[0;32mIn [20]\u001b[0m, in \u001b[0;36m<module>\u001b[0;34m\u001b[0m\n\u001b[1;32m      1\u001b[0m \u001b[38;5;28;01mfor\u001b[39;00m i \u001b[38;5;129;01min\u001b[39;00m \u001b[38;5;28mrange\u001b[39m(\u001b[38;5;241m1000\u001b[39m):\n\u001b[0;32m----> 2\u001b[0m     \u001b[43mupdate\u001b[49m\u001b[43m(\u001b[49m\u001b[43m)\u001b[49m\n\u001b[1;32m      3\u001b[0m \u001b[38;5;28mprint\u001b[39m(\u001b[38;5;124m\"\u001b[39m\u001b[38;5;124mPSO found best solution at f(\u001b[39m\u001b[38;5;132;01m{}\u001b[39;00m\u001b[38;5;124m)=\u001b[39m\u001b[38;5;132;01m{}\u001b[39;00m\u001b[38;5;124m\"\u001b[39m\u001b[38;5;241m.\u001b[39mformat(gbest, gbest_obj))\n\u001b[1;32m      4\u001b[0m \u001b[38;5;28mprint\u001b[39m(\u001b[38;5;124m\"\u001b[39m\u001b[38;5;124mGlobal optimal at f(\u001b[39m\u001b[38;5;132;01m{}\u001b[39;00m\u001b[38;5;124m)=\u001b[39m\u001b[38;5;132;01m{}\u001b[39;00m\u001b[38;5;124m\"\u001b[39m\u001b[38;5;241m.\u001b[39mformat([param1_min,param2_min], lib\u001b[38;5;241m.\u001b[39mobjective_fn(param1_min, param2_min, X_train, y_train)))\n",
      "Input \u001b[0;32mIn [19]\u001b[0m, in \u001b[0;36mupdate\u001b[0;34m()\u001b[0m\n\u001b[1;32m      4\u001b[0m     \u001b[38;5;66;03m# these have been already initialized in the previous cells\u001b[39;00m\n\u001b[1;32m      5\u001b[0m     \n\u001b[1;32m      6\u001b[0m     \u001b[38;5;66;03m# Update params\u001b[39;00m\n\u001b[1;32m      7\u001b[0m     r11,r12, r2 \u001b[38;5;241m=\u001b[39m np\u001b[38;5;241m.\u001b[39mrandom\u001b[38;5;241m.\u001b[39mrand(\u001b[38;5;241m3\u001b[39m)\n\u001b[0;32m----> 8\u001b[0m     V_param1\u001b[38;5;241m=\u001b[39m\u001b[43mw1\u001b[49m\u001b[38;5;241;43m*\u001b[39;49m\u001b[43mV_param1\u001b[49m\u001b[38;5;241;43m+\u001b[39;49m\u001b[43mc1\u001b[49m\u001b[38;5;241;43m*\u001b[39;49m\u001b[43mr11\u001b[49m\u001b[38;5;241;43m*\u001b[39;49m\u001b[43m(\u001b[49m\u001b[43mpbest\u001b[49m\u001b[43m[\u001b[49m\u001b[38;5;241;43m0\u001b[39;49m\u001b[43m]\u001b[49m\u001b[43m \u001b[49m\u001b[38;5;241;43m-\u001b[39;49m\u001b[43m \u001b[49m\u001b[43mparams1\u001b[49m\u001b[43m)\u001b[49m\u001b[38;5;241m+\u001b[39m c2\u001b[38;5;241m*\u001b[39mr2\u001b[38;5;241m*\u001b[39m(gbest[\u001b[38;5;241m0\u001b[39m]\u001b[38;5;241m-\u001b[39mparams1)\n\u001b[1;32m      9\u001b[0m     V_param2\u001b[38;5;241m=\u001b[39mw2\u001b[38;5;241m*\u001b[39mV_param2\u001b[38;5;241m+\u001b[39mc1\u001b[38;5;241m*\u001b[39mr12\u001b[38;5;241m*\u001b[39m(pbest[\u001b[38;5;241m1\u001b[39m] \u001b[38;5;241m-\u001b[39m params2)\u001b[38;5;241m+\u001b[39m c2\u001b[38;5;241m*\u001b[39mr2\u001b[38;5;241m*\u001b[39m(gbest[\u001b[38;5;241m1\u001b[39m]\u001b[38;5;241m-\u001b[39mparams2)    \n\u001b[1;32m     10\u001b[0m \u001b[38;5;66;03m#     V = w * V + c1*r11*(pbest - params1) + c2*r2*(gbest.reshape(-1,1)-X)\u001b[39;00m\n",
      "\u001b[0;31mValueError\u001b[0m: operands could not be broadcast together with shapes (20,30) (100,30) "
     ]
    }
   ],
   "source": [
    "\n",
    "for i in range(1000):\n",
    "    update()\n",
    "print(\"PSO found best solution at f({})={}\".format(gbest, gbest_obj))\n",
    "print(\"Global optimal at f({})={}\".format([param1_min,param2_min], lib.objective_fn(param1_min, param2_min, X_train, y_train)))\n"
   ]
  },
  {
   "cell_type": "code",
   "execution_count": null,
   "id": "39bdb817",
   "metadata": {},
   "outputs": [],
   "source": [
    "X_train.shape[0]"
   ]
  },
  {
   "cell_type": "code",
   "execution_count": null,
   "id": "2b099e9c",
   "metadata": {},
   "outputs": [],
   "source": []
  }
 ],
 "metadata": {
  "kernelspec": {
   "display_name": "Python 3 (ipykernel)",
   "language": "python",
   "name": "python3"
  },
  "language_info": {
   "codemirror_mode": {
    "name": "ipython",
    "version": 3
   },
   "file_extension": ".py",
   "mimetype": "text/x-python",
   "name": "python",
   "nbconvert_exporter": "python",
   "pygments_lexer": "ipython3",
   "version": "3.9.5"
  }
 },
 "nbformat": 4,
 "nbformat_minor": 5
}
