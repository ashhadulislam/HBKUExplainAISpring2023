{
 "cells": [
  {
   "cell_type": "code",
   "execution_count": 24,
   "id": "75b137d4",
   "metadata": {},
   "outputs": [],
   "source": [
    "from sklearn import datasets\n",
    "from sklearn.model_selection import train_test_split\n",
    "import numpy as np\n",
    "from sklearn.metrics import accuracy_score\n",
    "\n",
    "from scipy.stats import entropy\n",
    "\n",
    "\n",
    "import lib as lib\n"
   ]
  },
  {
   "cell_type": "markdown",
   "id": "04ba4c42",
   "metadata": {},
   "source": [
    "### Working on breast cancer data"
   ]
  },
  {
   "cell_type": "code",
   "execution_count": 25,
   "id": "3d91a34b",
   "metadata": {},
   "outputs": [],
   "source": [
    "# import some data to play with\n",
    "#load the breast cancer dataset \n",
    "bcan = datasets.load_breast_cancer()\n",
    "X = bcan.data\n",
    "y = bcan.target\n",
    "\n",
    "X_train, X_test, y_train, y_test = train_test_split(\n",
    "     X, y, test_size=0.33, random_state=42)\n",
    "\n",
    "\n",
    "# normalize the data\n",
    "from sklearn.preprocessing import MinMaxScaler\n",
    "scaler = MinMaxScaler()\n",
    "X_train=scaler.fit_transform(X_train)\n",
    "X_test=scaler.transform(X_test)\n"
   ]
  },
  {
   "cell_type": "code",
   "execution_count": 26,
   "id": "d3aaecae",
   "metadata": {},
   "outputs": [
    {
     "name": "stdout",
     "output_type": "stream",
     "text": [
      "Shape of params 1 (weights) (100, 30)\n",
      "Shape of params 2 (thresholds) (100,)\n"
     ]
    }
   ],
   "source": [
    "# initialize params1 and params2\n",
    "\n",
    "params1=[lib.initialize_weights(X_train.shape[1]) for i in range(100)]# a vector of shape 100,4\n",
    "# call the initialize_weights function above\n",
    "\n",
    "params2=[np.random.uniform() for i in range(100)]# a vector of shape 100\n",
    "# use the np.random.uniform() function\n",
    "\n",
    "# we have a list of 100 weight vectors (params1) and 100 thresholds (params2)\n",
    "# convert them to array\n",
    "params1=np.array(params1)\n",
    "params2=np.array(params2)\n",
    "\n",
    "\n",
    "print(\"Shape of params 1 (weights)\",params1.shape)\n",
    "print(\"Shape of params 2 (thresholds)\",params2.shape)"
   ]
  },
  {
   "cell_type": "code",
   "execution_count": 27,
   "id": "81b9d22c",
   "metadata": {},
   "outputs": [
    {
     "name": "stdout",
     "output_type": "stream",
     "text": [
      "param1_min [0.29332121 0.11841787 0.90289701 0.20699767 0.57530654 0.68620426\n",
      " 0.74267843 0.46333525 0.74344956 0.32585486 0.18245493 0.05052287\n",
      " 0.25256524 0.92907513 0.68984837 0.31908874 0.49173868 0.35238822\n",
      " 0.85396625 0.25328364 0.2837559  0.1907728  0.54990109 0.52196241\n",
      " 0.14893894 0.68850451 0.91048032 0.48135845 0.57524243 0.55891037] param2_min 0.48199824425601057\n",
      "0.6643460978641622\n"
     ]
    }
   ],
   "source": [
    "z = lib.objective_fn_vector(params1, params2, X_train, y_train)\n",
    "# Find the global minimum\n",
    "param1_min = params1[z.argmin()] # use z.argmin()\n",
    "param2_min = params2[z.argmin()] # use z.argmin()\n",
    "\n",
    "print(\"param1_min\",param1_min,\"param2_min\",param2_min)\n",
    "print(lib.objective_fn(param1_min, param2_min, X_train, y_train))"
   ]
  },
  {
   "cell_type": "code",
   "execution_count": 28,
   "id": "d82dc762",
   "metadata": {},
   "outputs": [
    {
     "name": "stdout",
     "output_type": "stream",
     "text": [
      "params1 shape is  (20, 30) params2 shape is  (20,)\n"
     ]
    }
   ],
   "source": [
    "\n",
    "# Hyper-parameter of the algorithm\n",
    "c1 = c2 = 0.1\n",
    "w1 = np.array([np.random.uniform() for i in range(X_train.shape[1])])\n",
    "w2 = 0.8 \n",
    "# Create particles\n",
    "n_particles = 20\n",
    "np.random.seed(100)\n",
    "params1=[lib.initialize_weights(X_train.shape[1]) for i in range(n_particles)] # a vector of shape n_particles,4\n",
    "# call the initialize_weights function above\n",
    "\n",
    "params2=[np.random.uniform() for i in range(n_particles)]# a vector of shape n_particles\n",
    "# use the np.random.uniform() function\n",
    "\n",
    "params1=np.array(params1)\n",
    "params2=np.array(params2)\n",
    "\n",
    "print(\"params1 shape is \",params1.shape,\"params2 shape is \",params2.shape)"
   ]
  },
  {
   "cell_type": "code",
   "execution_count": 29,
   "id": "7442b873",
   "metadata": {},
   "outputs": [
    {
     "name": "stdout",
     "output_type": "stream",
     "text": [
      "pbest obj value for 20 particles are as follows [0.6643461 0.6643461 0.6643461 0.6643461 0.6643461 0.6643461 0.6643461\n",
      " 0.6643461 0.6643461 0.6643461 0.6643461 0.6643461 0.6643461 0.6643461\n",
      " 0.6643461 0.6643461 0.6643461 0.6643461 0.6643461 0.6643461]\n",
      "gbest obj value among all 20 particles is as follows 0.6643460978641622\n"
     ]
    }
   ],
   "source": [
    "# define velocity of each weight of every particle\n",
    "V_param1 = [lib.initialize_weights(X_train.shape[1])*0.1 for i in range(n_particles)] # shape is same as params1\n",
    "# once again can use initialize_weights function\n",
    "\n",
    "#define velocity of each threshold of every particle\n",
    "V_param2 = np.array([np.random.uniform()*0.1 for i in range(n_particles)])# shape is same as params2\n",
    "# once again use np.random.uniform() function\n",
    "\n",
    "# Initialize objective values\n",
    "pbest = (params1,params2)\n",
    "pbest_obj = lib.objective_fn_vector(params1, params2, X_train, y_train)\n",
    "gbest=(params1[pbest_obj.argmin()],params2[pbest_obj.argmin()])\n",
    "gbest_obj = pbest_obj.min()\n",
    "\n",
    "print(\"pbest obj value for 20 particles are as follows\",pbest_obj)\n",
    "print(\"gbest obj value among all 20 particles is as follows\",gbest_obj)\n",
    "# note that gbest_obj should be the minimim of all pbest_obj"
   ]
  },
  {
   "cell_type": "code",
   "execution_count": 30,
   "id": "8dd5d1ab",
   "metadata": {},
   "outputs": [],
   "source": [
    "def update(V_param1,V_param2, params1,params2, pbest, pbest_obj, gbest, gbest_obj):\n",
    "    \"Function to do one iteration of particle swarm optimization\"\n",
    "    # these have been already initialized in the previous cells\n",
    "    \n",
    "    # Update params\n",
    "    r11,r12, r2 = np.random.rand(3)\n",
    "    V_param1=w1*V_param1+c1*r11*(pbest[0] - params1)+ c2*r2*(gbest[0]-params1)\n",
    "    V_param2=w2*V_param2+c1*r12*(pbest[1] - params2)+ c2*r2*(gbest[1]-params2)    \n",
    "#     V = w * V + c1*r11*(pbest - params1) + c2*r2*(gbest.reshape(-1,1)-X)\n",
    "    params1 = params1 + V_param1\n",
    "    params2 = params2 + V_param2\n",
    "    \n",
    "    obj = lib.objective_fn_vector(params1, params2, X_train, y_train)\n",
    "    for i in range(pbest[0].shape[0]):\n",
    "        if pbest_obj[i]>=obj[i]:\n",
    "            \n",
    "            pbest[0][i]=params1[i] # update pbest[0][i] with value of params1[i]\n",
    "            pbest[1][i]=params2[i] # update pbest[1][i] \n",
    "            pbest_obj[i]=obj[i]    # also update pbest_obj[i]\n",
    "\n",
    "            \n",
    "    gbest=(params1[pbest_obj.argmin()],params2[pbest_obj.argmin()]) # update gbest to contain the best from params1 and params 2\n",
    "    gbest_obj = pbest_obj.min() # update gbest to get the minimum of pbest_obj\n",
    " \n"
   ]
  },
  {
   "cell_type": "code",
   "execution_count": 31,
   "id": "cd9d3cb1",
   "metadata": {},
   "outputs": [
    {
     "name": "stdout",
     "output_type": "stream",
     "text": [
      "PSO found best solution at f((array([7.31640885, 8.20255845, 1.88323015, 5.06529472, 0.69221023,\n",
      "       0.52359245, 2.09916329, 7.75930097, 0.73487131, 2.48495038,\n",
      "       1.60724141, 4.57559109, 0.20111294, 2.3197124 , 4.72442403,\n",
      "       4.98683773, 3.10366565, 3.96090088, 4.46208784, 4.53378587,\n",
      "       0.43599061, 1.25557602, 2.81187997, 0.78539846, 3.59300447,\n",
      "       1.81209468, 1.32580087, 4.90588436, 5.59965104, 2.13579209]), 0.4098464718143954))=0.6643460978641622\n",
      "Global optimal at f([array([0.29332121, 0.11841787, 0.90289701, 0.20699767, 0.57530654,\n",
      "       0.68620426, 0.74267843, 0.46333525, 0.74344956, 0.32585486,\n",
      "       0.18245493, 0.05052287, 0.25256524, 0.92907513, 0.68984837,\n",
      "       0.31908874, 0.49173868, 0.35238822, 0.85396625, 0.25328364,\n",
      "       0.2837559 , 0.1907728 , 0.54990109, 0.52196241, 0.14893894,\n",
      "       0.68850451, 0.91048032, 0.48135845, 0.57524243, 0.55891037]), 0.48199824425601057])=0.6643460978641622\n"
     ]
    }
   ],
   "source": [
    "for i in range(100):\n",
    "    update(V_param1,V_param2, params1,params2, pbest, pbest_obj, gbest, gbest_obj)\n",
    "print(\"PSO found best solution at f({})={}\".format(gbest, gbest_obj))\n",
    "print(\"Global optimal at f({})={}\".format([param1_min,param2_min], lib.objective_fn(param1_min, param2_min, X_train, y_train)))\n"
   ]
  },
  {
   "cell_type": "code",
   "execution_count": null,
   "id": "3bada4ef",
   "metadata": {},
   "outputs": [],
   "source": []
  },
  {
   "cell_type": "code",
   "execution_count": 34,
   "id": "55437371",
   "metadata": {},
   "outputs": [],
   "source": [
    "import numpy as np\n",
    "import lib # assuming lib is a module that contains the required functions\n",
    "\n",
    "max_tree_size=128\n",
    "all_optimized_weights_list=[None for i in range(max_tree_size)]\n",
    "all_optimized_thresh_list=[None for i in range(max_tree_size)]\n",
    "all_dataset_sizes_list=[None for i in range(max_tree_size)]\n",
    "all_IG_list=[None for i in range(max_tree_size)]\n",
    "\n",
    "\n",
    "def find_best_params(train_x,train_y,test_x,test_y,node_number):\n",
    "    '''\n",
    "    recursive function to get the best set of weights\n",
    "    '''\n",
    "    print(\"node_number\",node_number,\"data shape\",train_x.shape)\n",
    "    # exit condition 1: if the node_number is more than the maximum tree size, return\n",
    "    if node_number>=max_tree_size:\n",
    "        return\n",
    "    # exit condition 2: if the training dataset has one or less rows, return\n",
    "    if train_x.shape[0]<=1:\n",
    "        return\n",
    "    # exit condition 3: if the train_y has values from only one class (only 0s or only 1s and so on)\n",
    "    if len(np.unique(train_y))==1:\n",
    "        return\n",
    "    \n",
    "    # use the initialized lists as global\n",
    "    global all_optimized_weights_list\n",
    "    global all_optimized_thresh_list\n",
    "    global all_dataset_sizes_list\n",
    "    global all_IG_list\n",
    "\n",
    "    # Hyper-parameter of the algorithm\n",
    "    c1 = c2 = 0.1\n",
    "    w1 = np.array([np.random.uniform() for i in range(X_train.shape[1])])\n",
    "    w2 = 0.8 \n",
    "    # Create particles\n",
    "    n_particles = 20\n",
    "    np.random.seed(100)\n",
    "    params1=[lib.initialize_weights(X_train.shape[1]) for i in range(n_particles)] # a vector of shape n_particles,n_features\n",
    "    # call the initialize_weights function above\n",
    "\n",
    "    params2=[np.random.uniform() for i in range(n_particles)]# a vector of shape n_particles\n",
    "    # use the np.random.uniform() function\n",
    "\n",
    "    params1=np.array(params1)\n",
    "    params2=np.array(params2)\n",
    "\n",
    "    # define velocity of each weight of every particle\n",
    "    V_param1 = [lib.initialize_weights(X_train.shape[1])*0.1 for i in range(n_particles)] # shape is same as params1\n",
    "    # once again can use initialize_weights function\n",
    "\n",
    "    #define velocity of each threshold of every particle\n",
    "    V_param2 = np.array([np.random.uniform()*0.1 for i in range(n_particles)])# shape is same as params2\n",
    "    # once again use np.random.uniform() function\n",
    "\n",
    "    # Initialize objective values\n",
    "    pbest = (params1,params2)\n",
    "    pbest_obj = lib.objective_fn_vector(params1, params2, X_train, y_train)\n",
    "    gbest=(params1[pbest_obj.argmin()],params2[pbest_obj.argmin()])\n",
    "    gbest_obj = pbest_obj.min()\n",
    "    \n",
    "    new_ys = None  # initialize new_ys variable\n",
    "    for i in range(100):\n",
    "        update(V_param1, V_param2, params1, params2, pbest, pbest_obj, gbest, gbest_obj)\n",
    "        # calculate new_ys inside the loop\n",
    "        new_ys = np.dot(train_x, gbest[0])\n",
    "        # normalize the new_ys\n",
    "        new_ys = (new_ys - np.min(new_ys)) / (np.max(new_ys) - np.min(new_ys))\n",
    "\n",
    "    # add the achieved optimized values to the lists\n",
    "    all_optimized_weights_list[node_number] = gbest[0]\n",
    "    all_optimized_thresh_list[node_number] = gbest[1]\n",
    "    all_dataset_sizes_list[node_number] = train_x.shape[0]\n",
    "    \n",
    "    \n",
    "    # Here my code has error\n",
    "    all_IG_list[node_number] = lib.information_gain(train_y, new_ys)\n",
    "\n",
    "    # chop the data into two parts: left\n",
    "    train_x_left = train_x[new_ys >= gbest[1]]\n",
    "    train_y_left = train_y[new_ys >= gbest[1]]\n",
    "    left_child_node_num = node_number * 2 + 1\n",
    "\n",
    "    # chop the data into two parts: right\n",
    "    train_x_right = train_x[new_ys < gbest[1]]\n",
    "    train_y_right = train_y[new_ys < gbest[1]]\n",
    "    right_child_node_num = node_number * 2 + 2\n",
    "\n",
    "    # exit condition 4: return if information gain is 0\n",
    "    # here my code has error\n",
    "    if lib.information_gain(train_y, new_ys) == 0:\n",
    "        return\n",
    "\n",
    "    print(\"Left\", train_x_left.shape)\n",
    "    print(\"Right\", train_x_right.shape)\n",
    "\n",
    "    # make the recursion call for left\n",
    "    find_best_params(train_x_left, train_y_left, test_x, test_y, left_child_node_num)\n",
    "\n",
    "    # make the recursion call for right\n",
    "    find_best_params(train_x_right, train_y_right, test_x, test_y, right_child_node_num)\n"
   ]
  },
  {
   "cell_type": "code",
   "execution_count": 35,
   "id": "b0478526",
   "metadata": {},
   "outputs": [
    {
     "name": "stdout",
     "output_type": "stream",
     "text": [
      "node_number 0 data shape (381, 30)\n"
     ]
    },
    {
     "ename": "TypeError",
     "evalue": "information_gain() missing 1 required positional argument: 'count_items'",
     "output_type": "error",
     "traceback": [
      "\u001b[1;31m---------------------------------------------------------------------------\u001b[0m",
      "\u001b[1;31mTypeError\u001b[0m                                 Traceback (most recent call last)",
      "\u001b[1;32m~\\AppData\\Local\\Temp\\ipykernel_22316\\1375373163.py\u001b[0m in \u001b[0;36m<module>\u001b[1;34m\u001b[0m\n\u001b[0;32m      1\u001b[0m \u001b[0mnode_number\u001b[0m\u001b[1;33m=\u001b[0m\u001b[1;36m0\u001b[0m\u001b[1;33m\u001b[0m\u001b[1;33m\u001b[0m\u001b[0m\n\u001b[1;32m----> 2\u001b[1;33m \u001b[0mfind_best_params\u001b[0m\u001b[1;33m(\u001b[0m\u001b[0mX_train\u001b[0m\u001b[1;33m,\u001b[0m\u001b[0my_train\u001b[0m\u001b[1;33m,\u001b[0m\u001b[0mX_test\u001b[0m\u001b[1;33m,\u001b[0m\u001b[0my_test\u001b[0m\u001b[1;33m,\u001b[0m\u001b[0mnode_number\u001b[0m\u001b[1;33m)\u001b[0m\u001b[1;33m\u001b[0m\u001b[1;33m\u001b[0m\u001b[0m\n\u001b[0m",
      "\u001b[1;32m~\\AppData\\Local\\Temp\\ipykernel_22316\\99100188.py\u001b[0m in \u001b[0;36mfind_best_params\u001b[1;34m(train_x, train_y, test_x, test_y, node_number)\u001b[0m\n\u001b[0;32m     75\u001b[0m \u001b[1;33m\u001b[0m\u001b[0m\n\u001b[0;32m     76\u001b[0m     \u001b[1;31m# Here my code has error\u001b[0m\u001b[1;33m\u001b[0m\u001b[1;33m\u001b[0m\u001b[0m\n\u001b[1;32m---> 77\u001b[1;33m     \u001b[0mall_IG_list\u001b[0m\u001b[1;33m[\u001b[0m\u001b[0mnode_number\u001b[0m\u001b[1;33m]\u001b[0m \u001b[1;33m=\u001b[0m \u001b[0mlib\u001b[0m\u001b[1;33m.\u001b[0m\u001b[0minformation_gain\u001b[0m\u001b[1;33m(\u001b[0m\u001b[0mtrain_y\u001b[0m\u001b[1;33m,\u001b[0m \u001b[0mnew_ys\u001b[0m\u001b[1;33m)\u001b[0m\u001b[1;33m\u001b[0m\u001b[1;33m\u001b[0m\u001b[0m\n\u001b[0m\u001b[0;32m     78\u001b[0m \u001b[1;33m\u001b[0m\u001b[0m\n\u001b[0;32m     79\u001b[0m     \u001b[1;31m# chop the data into two parts: left\u001b[0m\u001b[1;33m\u001b[0m\u001b[1;33m\u001b[0m\u001b[0m\n",
      "\u001b[1;31mTypeError\u001b[0m: information_gain() missing 1 required positional argument: 'count_items'"
     ]
    }
   ],
   "source": [
    "node_number=0\n",
    "find_best_params(X_train,y_train,X_test,y_test,node_number)"
   ]
  },
  {
   "cell_type": "code",
   "execution_count": 36,
   "id": "ee05eb26",
   "metadata": {},
   "outputs": [
    {
     "data": {
      "text/plain": [
       "(381, 30)"
      ]
     },
     "execution_count": 36,
     "metadata": {},
     "output_type": "execute_result"
    }
   ],
   "source": [
    "X_train.shape"
   ]
  },
  {
   "cell_type": "code",
   "execution_count": 37,
   "id": "a756014d",
   "metadata": {},
   "outputs": [
    {
     "data": {
      "text/plain": [
       "[0.4098464718143954,\n",
       " None,\n",
       " None,\n",
       " None,\n",
       " None,\n",
       " None,\n",
       " None,\n",
       " None,\n",
       " None,\n",
       " None,\n",
       " None,\n",
       " None,\n",
       " None,\n",
       " None,\n",
       " None,\n",
       " None,\n",
       " None,\n",
       " None,\n",
       " None,\n",
       " None,\n",
       " None,\n",
       " None,\n",
       " None,\n",
       " None,\n",
       " None,\n",
       " None,\n",
       " None,\n",
       " None,\n",
       " None,\n",
       " None,\n",
       " None,\n",
       " None,\n",
       " None,\n",
       " None,\n",
       " None,\n",
       " None,\n",
       " None,\n",
       " None,\n",
       " None,\n",
       " None,\n",
       " None,\n",
       " None,\n",
       " None,\n",
       " None,\n",
       " None,\n",
       " None,\n",
       " None,\n",
       " None,\n",
       " None,\n",
       " None,\n",
       " None,\n",
       " None,\n",
       " None,\n",
       " None,\n",
       " None,\n",
       " None,\n",
       " None,\n",
       " None,\n",
       " None,\n",
       " None,\n",
       " None,\n",
       " None,\n",
       " None,\n",
       " None,\n",
       " None,\n",
       " None,\n",
       " None,\n",
       " None,\n",
       " None,\n",
       " None,\n",
       " None,\n",
       " None,\n",
       " None,\n",
       " None,\n",
       " None,\n",
       " None,\n",
       " None,\n",
       " None,\n",
       " None,\n",
       " None,\n",
       " None,\n",
       " None,\n",
       " None,\n",
       " None,\n",
       " None,\n",
       " None,\n",
       " None,\n",
       " None,\n",
       " None,\n",
       " None,\n",
       " None,\n",
       " None,\n",
       " None,\n",
       " None,\n",
       " None,\n",
       " None,\n",
       " None,\n",
       " None,\n",
       " None,\n",
       " None,\n",
       " None,\n",
       " None,\n",
       " None,\n",
       " None,\n",
       " None,\n",
       " None,\n",
       " None,\n",
       " None,\n",
       " None,\n",
       " None,\n",
       " None,\n",
       " None,\n",
       " None,\n",
       " None,\n",
       " None,\n",
       " None,\n",
       " None,\n",
       " None,\n",
       " None,\n",
       " None,\n",
       " None,\n",
       " None,\n",
       " None,\n",
       " None,\n",
       " None,\n",
       " None,\n",
       " None,\n",
       " None]"
      ]
     },
     "execution_count": 37,
     "metadata": {},
     "output_type": "execute_result"
    }
   ],
   "source": [
    "all_optimized_thresh_list"
   ]
  },
  {
   "cell_type": "code",
   "execution_count": 38,
   "id": "cac47dbe",
   "metadata": {},
   "outputs": [],
   "source": [
    "thresh=all_optimized_thresh_list[0]"
   ]
  },
  {
   "cell_type": "code",
   "execution_count": null,
   "id": "bec809eb",
   "metadata": {},
   "outputs": [],
   "source": []
  }
 ],
 "metadata": {
  "kernelspec": {
   "display_name": "Python 3 (ipykernel)",
   "language": "python",
   "name": "python3"
  },
  "language_info": {
   "codemirror_mode": {
    "name": "ipython",
    "version": 3
   },
   "file_extension": ".py",
   "mimetype": "text/x-python",
   "name": "python",
   "nbconvert_exporter": "python",
   "pygments_lexer": "ipython3",
   "version": "3.9.13"
  }
 },
 "nbformat": 4,
 "nbformat_minor": 5
}
