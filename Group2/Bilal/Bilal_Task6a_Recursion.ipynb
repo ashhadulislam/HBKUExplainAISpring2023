{
  "cells": [
    {
      "cell_type": "markdown",
      "id": "ec111c35",
      "metadata": {
        "id": "ec111c35"
      },
      "source": [
        "#### 1a Recursion function to calculate fibonacci number\n",
        "\n",
        "Fibonacci sequence is the series where each number is the sum of its previous 2 numbers. Following is an example\n",
        "\n",
        "1, 1, 2, 3, 5, 8, 13, 21, 34, ....\n",
        "\n",
        "The first two values are 1 and 1 by default"
      ]
    },
    {
      "cell_type": "code",
      "execution_count": 31,
      "id": "740fc8cc",
      "metadata": {
        "id": "740fc8cc"
      },
      "outputs": [],
      "source": [
        "# Write a recursive function to generate the nth number in the fibonacci sequence (starting from 0)\n",
        "# example, fib(1) should return 1\n",
        "# fib(3) should return 3\n",
        "# fib (7) should return 21 ...\n"
      ]
    },
    {
      "cell_type": "code",
      "execution_count": 32,
      "id": "8a611811",
      "metadata": {
        "id": "8a611811"
      },
      "outputs": [],
      "source": [
        "def fib(n):\n",
        "    # exit conditions\n",
        "    if n==0 or n==1:\n",
        "        return 1\n",
        "    # recursion condition\n",
        "    return fib(n-2)+fib(n-1)\n",
        "\n"
      ]
    },
    {
      "cell_type": "code",
      "execution_count": 33,
      "id": "4176d929",
      "metadata": {
        "colab": {
          "base_uri": "https://localhost:8080/"
        },
        "id": "4176d929",
        "outputId": "e42036e4-61b3-4ad4-9310-11ad505021d2"
      },
      "outputs": [
        {
          "output_type": "execute_result",
          "data": {
            "text/plain": [
              "21"
            ]
          },
          "metadata": {},
          "execution_count": 33
        }
      ],
      "source": [
        "fib(7)"
      ]
    },
    {
      "cell_type": "markdown",
      "id": "da9c29a7",
      "metadata": {
        "id": "da9c29a7"
      },
      "source": [
        "#### 1b Non recursive function to calculate fibonacci number"
      ]
    },
    {
      "cell_type": "code",
      "execution_count": 34,
      "id": "e97f8199",
      "metadata": {
        "id": "e97f8199"
      },
      "outputs": [],
      "source": [
        "# Write a non-recursive function to generate the nth number in the fibonacci sequence (starting from 0)\n",
        "# example, nr_fib(1) should return 1\n",
        "# nr_fib(3) should return 3\n",
        "# nr_fib (7) should return 21 ...\n"
      ]
    },
    {
      "cell_type": "code",
      "execution_count": 35,
      "id": "b98eb318",
      "metadata": {
        "id": "b98eb318"
      },
      "outputs": [],
      "source": [
        "def nr_fib(n):\n",
        "    arr_n = [0 for i in range(n)] # create an array of n numbers having values 0\n",
        "\n",
        "    # set the first two values of the list\n",
        "    arr_n[0] = 1\n",
        "    arr_n[1] = 2\n",
        "\n",
        "    for i in range(2, n):\n",
        "        # calculate the sum of the previous two numbers\n",
        "        arr_n[i] = arr_n[i-1] + arr_n[i-2]\n",
        "\n",
        "    return arr_n[n-1]"
      ]
    },
    {
      "cell_type": "code",
      "execution_count": 36,
      "id": "6449ba44",
      "metadata": {
        "colab": {
          "base_uri": "https://localhost:8080/"
        },
        "id": "6449ba44",
        "outputId": "07430c16-ee38-4930-a2ad-c9a60db9c067"
      },
      "outputs": [
        {
          "output_type": "execute_result",
          "data": {
            "text/plain": [
              "21"
            ]
          },
          "metadata": {},
          "execution_count": 36
        }
      ],
      "source": [
        "nr_fib(7)"
      ]
    },
    {
      "cell_type": "markdown",
      "id": "cf16d05d",
      "metadata": {
        "id": "cf16d05d"
      },
      "source": [
        "### Mention 3 points of difference between the above two functions"
      ]
    },
    {
      "cell_type": "markdown",
      "id": "bf195ecd",
      "metadata": {
        "id": "bf195ecd"
      },
      "source": [
        "1.The first function fib(n) is a recursive function, while the second function nr_fib(n) is a non-recursive function that uses a list to store the Fibonacci numbers.\n",
        "\n",
        "2.The recursive function fib(n) has an exponential time complexity O(2^n), which means that the time it takes to calculate the nth Fibonacci number grows exponentially with n. In contrast, the non-recursive function nr_fib(n) has a linear time complexity O(n), which means that the time it takes to calculate the nth Fibonacci number grows linearly with n.\n",
        "\n",
        "3.The recursive function fib(n) has two exit conditions, which return n when n equals 0 or 1. The non-recursive function nr_fib(n) starts with the first two values of the Fibonacci sequence (0 and 1), and calculates the rest of the sequence using a loop. In this function, the value of n is used as an index to return the nth Fibonacci number in the list."
      ]
    },
    {
      "cell_type": "markdown",
      "id": "72dd82f0",
      "metadata": {
        "id": "72dd82f0"
      },
      "source": [
        "#### 2a Recursion function to calculate Factorial of a number\n",
        "\n",
        "Factorial of a number is defined as the product of all numbers till 1\n",
        "\n",
        "fact(4)=4\\*3\\*2\\*1=24\n",
        "\n",
        "fact(7)=7\\*6\\*5\\*4\\*3\\*2\\*1=5040"
      ]
    },
    {
      "cell_type": "code",
      "execution_count": 37,
      "id": "17dd2755",
      "metadata": {
        "id": "17dd2755"
      },
      "outputs": [],
      "source": [
        "def fact(n):\n",
        "    # exit criteria\n",
        "    if n==1 or n==0:\n",
        "        return 1\n",
        "    # recursion\n",
        "    return n*fact(n-1)"
      ]
    },
    {
      "cell_type": "code",
      "execution_count": 43,
      "id": "5203393f",
      "metadata": {
        "colab": {
          "base_uri": "https://localhost:8080/"
        },
        "id": "5203393f",
        "outputId": "98285a0b-5fc8-4967-f015-2fc1ecaf4f9d"
      },
      "outputs": [
        {
          "output_type": "execute_result",
          "data": {
            "text/plain": [
              "24"
            ]
          },
          "metadata": {},
          "execution_count": 43
        }
      ],
      "source": [
        "fact(4)"
      ]
    },
    {
      "cell_type": "markdown",
      "id": "982985ac",
      "metadata": {
        "id": "982985ac"
      },
      "source": [
        "#### 2b Non recursive function to calculate factorial"
      ]
    },
    {
      "cell_type": "code",
      "execution_count": 39,
      "id": "1b9c706c",
      "metadata": {
        "id": "1b9c706c"
      },
      "outputs": [],
      "source": [
        "def nr_fact(n):\n",
        "    # exit criteria\n",
        "    if n==1 or n==0:\n",
        "        return 1\n",
        "    # recursion\n",
        "    return n*fact(n-1)"
      ]
    },
    {
      "cell_type": "code",
      "execution_count": 40,
      "id": "e9205a74",
      "metadata": {
        "colab": {
          "base_uri": "https://localhost:8080/"
        },
        "id": "e9205a74",
        "outputId": "a9684428-e220-4f4c-df9f-793dae19ba79"
      },
      "outputs": [
        {
          "output_type": "execute_result",
          "data": {
            "text/plain": [
              "5040"
            ]
          },
          "metadata": {},
          "execution_count": 40
        }
      ],
      "source": [
        "nr_fact(7)"
      ]
    },
    {
      "cell_type": "markdown",
      "id": "8d46494d",
      "metadata": {
        "id": "8d46494d"
      },
      "source": [
        "#### 3 Representing binary tree as a list\n",
        "\n",
        "It is necessary to have an idea about how to represent a binary tree as a list\n",
        "\n",
        "         5\n",
        "        / \\\n",
        "       12  9\n",
        "      /   / \\\n",
        "     7   18 33\n",
        "     \n",
        "     \n",
        "l=[5, 12, 9,  7, None,  18, 33]\n",
        "\n",
        "For any node at index n of the list\n",
        "Its children are present at index 2\\*n+1 and 2\\*n+2  (Starting from index 0)"
      ]
    },
    {
      "cell_type": "code",
      "execution_count": 41,
      "id": "5eca9f62",
      "metadata": {
        "colab": {
          "base_uri": "https://localhost:8080/"
        },
        "id": "5eca9f62",
        "outputId": "9ddcfdcf-7b9a-4dc5-fb11-2c2ee7c8a6ac"
      },
      "outputs": [
        {
          "output_type": "stream",
          "name": "stdout",
          "text": [
            "                  33\n",
            "      9\n",
            "               18\n",
            "5\n",
            "   12\n",
            "         7\n"
          ]
        }
      ],
      "source": [
        "l = [5, 12, 9, 7, None, 18, 33]\n",
        "\n",
        "# Define a function to print the binary tree in a readable format\n",
        "def print_tree(l, n=0):\n",
        "    if n < len(l):\n",
        "        if l[n] is not None:\n",
        "            print_tree(l, 2*n+2)\n",
        "            print(' ' * 3 * n + str(l[n]))\n",
        "            print_tree(l, 2*n+1)\n",
        "\n",
        "print_tree(l)\n"
      ]
    }
  ],
  "metadata": {
    "kernelspec": {
      "display_name": "Python 3 (ipykernel)",
      "language": "python",
      "name": "python3"
    },
    "language_info": {
      "codemirror_mode": {
        "name": "ipython",
        "version": 3
      },
      "file_extension": ".py",
      "mimetype": "text/x-python",
      "name": "python",
      "nbconvert_exporter": "python",
      "pygments_lexer": "ipython3",
      "version": "3.9.5"
    },
    "colab": {
      "provenance": []
    }
  },
  "nbformat": 4,
  "nbformat_minor": 5
}